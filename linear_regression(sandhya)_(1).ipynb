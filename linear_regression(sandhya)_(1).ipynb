{
  "nbformat": 4,
  "nbformat_minor": 0,
  "metadata": {
    "colab": {
      "name": "linear_regression(sandhya) (1).ipynb",
      "provenance": [],
      "collapsed_sections": [],
      "toc_visible": true
    },
    "kernelspec": {
      "name": "python3",
      "display_name": "Python 3"
    }
  },
  "cells": [
    {
      "cell_type": "markdown",
      "metadata": {
        "id": "vdlGtre7_SOb"
      },
      "source": [
        "## Linear Regression from Scratch"
      ]
    },
    {
      "cell_type": "markdown",
      "metadata": {
        "id": "-GQWe8EOXWRz"
      },
      "source": [
        "### Let's first create our loss function\n",
        "![alt text](https://miro.medium.com/max/868/1*1g7XNjpxE92xo-jKxS4uow.png)"
      ]
    },
    {
      "cell_type": "code",
      "metadata": {
        "id": "wC03_aGn_VX8"
      },
      "source": [
        "# Our cost function\r\n",
        "def cost_function(m, b, x, y):\r\n",
        "    totalError = 0\r\n",
        "    for i in range(0, len(x)):\r\n",
        "        totalError += (y[i]-(m*x[i]+b))**2\r\n",
        "    return totalError/float(len(x))"
      ],
      "execution_count": null,
      "outputs": []
    },
    {
      "cell_type": "code",
      "metadata": {
        "id": "pzKro_mE_dxX"
      },
      "source": [
        "# Implementation of the gradient descent algorithm\r\n",
        "def gradient_descent(b, m, x, y, learning_rate, num_iterations):\r\n",
        "    N = float(len(x))\r\n",
        "    # repeat for num_iterations\r\n",
        "    for j in range(num_iterations): \r\n",
        "        b_gradient = 0\r\n",
        "        m_gradient = 0\r\n",
        "        for i in range(0, len(x)):\r\n",
        "            b_gradient += -(2/N) * (y[i] - ((m * x[i]) + b))\r\n",
        "            m_gradient += -(2/N) * x[i] * (y[i] - ((m * x[i]) + b))\r\n",
        "        b -= (learning_rate * b_gradient)\r\n",
        "        m -= (learning_rate * m_gradient)\r\n",
        "        # Every 100  iterations we print our error \r\n",
        "        if j%100==0:\r\n",
        "            print(\"MSE after \" + str(j) + \" iterations: \" + str(cost_function(m, b, x, y)))\r\n",
        "    return [b, m]"
      ],
      "execution_count": null,
      "outputs": []
    },
    {
      "cell_type": "markdown",
      "metadata": {
        "id": "nQjB37U8_rrd"
      },
      "source": [
        "## Let's test our Linear Regression algorithm on some test data"
      ]
    },
    {
      "cell_type": "code",
      "metadata": {
        "colab": {
          "base_uri": "https://localhost:8080/",
          "height": 281
        },
        "id": "RzINCaCV_grO",
        "outputId": "ca7acd91-269a-4f56-e62c-8af3d2b9b68f"
      },
      "source": [
        "import numpy as np\r\n",
        "import matplotlib.pyplot as plt\r\n",
        "\r\n",
        "# Let's create a some randon data using linspace\r\n",
        "x = np.linspace(0, 100, 50) # creates a range of 50 numbers evenly spaced between 0 and 100\r\n",
        "delta = np.random.uniform(-10, 10, x.size)\r\n",
        "y = 0.5*x + 3 + delta\r\n",
        "\r\n",
        "plt.scatter(x, y)"
      ],
      "execution_count": null,
      "outputs": [
        {
          "output_type": "execute_result",
          "data": {
            "text/plain": [
              "<matplotlib.collections.PathCollection at 0x7fe35065d978>"
            ]
          },
          "metadata": {
            "tags": []
          },
          "execution_count": 5
        },
        {
          "output_type": "display_data",
          "data": {
            "image/png": "[encoded data removed]",
            "text/plain": [
              "<Figure size 432x288 with 1 Axes>"
            ]
          },
          "metadata": {
            "tags": [],
            "needs_background": "light"
          }
        }
      ]
    },
    {
      "cell_type": "code",
      "metadata": {
        "colab": {
          "base_uri": "https://localhost:8080/"
        },
        "id": "K3VMjiR4_wvB",
        "outputId": "6f5a5c83-43af-45a9-ab90-f9ced9773de4"
      },
      "source": [
        "# Defining our learning rate\r\n",
        "learning_rate = 0.0001\r\n",
        "\r\n",
        "# defining our initial values of b and m\r\n",
        "initial_b = 0\r\n",
        "initial_m = 0\r\n",
        "\r\n",
        "# Setting how many iterations we wish to run\r\n",
        "num_iterations= 1000\r\n",
        "\r\n",
        "print('Initial MSE:', cost_function(initial_m, initial_b, x, y))\r\n",
        "[b, m] = gradient_descent(initial_b, initial_m, x, y, learning_rate, num_iterations)\r\n",
        "print('b:', b)\r\n",
        "print('m:', m)\r\n",
        "print('MSE:', cost_function(m, b, x, y))"
      ],
      "execution_count": null,
      "outputs": [
        {
          "output_type": "stream",
          "text": [
            "Initial MSE: 935.7463955634875\n",
            "MSE after 0 iterations: 130.73757568997272\n",
            "MSE after 100 iterations: 34.75366562545263\n",
            "MSE after 200 iterations: 34.747674214243546\n",
            "MSE after 300 iterations: 34.7417442039181\n",
            "MSE after 400 iterations: 34.735874965230785\n",
            "MSE after 500 iterations: 34.7300658753847\n",
            "MSE after 600 iterations: 34.72431631796546\n",
            "MSE after 700 iterations: 34.71862568287581\n",
            "MSE after 800 iterations: 34.71299336627086\n",
            "MSE after 900 iterations: 34.70741877049395\n",
            "b: 0.0837056404211241\n",
            "m: 0.5160245611744141\n",
            "MSE: 34.701956197815605\n"
          ],
          "name": "stdout"
        }
      ]
    },
    {
      "cell_type": "code",
      "metadata": {
        "colab": {
          "base_uri": "https://localhost:8080/",
          "height": 281
        },
        "id": "l2L9pb-y_zve",
        "outputId": "9bba079b-9e3c-46b3-d208-1d94ee12c788"
      },
      "source": [
        "predictions = [(m * x[i]) + b for i in range(len(x))]\r\n",
        "plt.scatter(x, y)\r\n",
        "plt.plot(x, predictions, color='r')"
      ],
      "execution_count": null,
      "outputs": [
        {
          "output_type": "execute_result",
          "data": {
            "text/plain": [
              "[<matplotlib.lines.Line2D at 0x7fe350ef3c88>]"
            ]
          },
          "metadata": {
            "tags": []
          },
          "execution_count": 7
        },
        {
          "output_type": "display_data",
          "data": {
            "image/png": "[encoded data removed]",
            "text/plain": [
              "<Figure size 432x288 with 1 Axes>"
            ]
          },
          "metadata": {
            "tags": [],
            "needs_background": "light"
          }
        }
      ]
    },
    {
      "cell_type": "markdown",
      "metadata": {
        "id": "YX-v8aJW_6j8"
      },
      "source": [
        "## Let's use Sk Learn's Linear Regression model"
      ]
    },
    {
      "cell_type": "code",
      "metadata": {
        "id": "vbd6MWM8AIB6",
        "colab": {
          "base_uri": "https://localhost:8080/"
        },
        "outputId": "2c7b717a-7937-4e20-d6de-b958fe6c241e"
      },
      "source": [
        "import numpy as np\r\n",
        "from sklearn.linear_model import LinearRegression\r\n",
        "\r\n",
        "# Let's change the shape of x array to the format expected by sklearn\r\n",
        "print(x.shape)\r\n",
        "x = x.reshape((-1, 1))\r\n",
        "print(x.shape)"
      ],
      "execution_count": null,
      "outputs": [
        {
          "output_type": "stream",
          "text": [
            "(50, 1)\n",
            "(50, 1)\n"
          ],
          "name": "stdout"
        }
      ]
    },
    {
      "cell_type": "code",
      "metadata": {
        "id": "k4PjHQqnA3Qg"
      },
      "source": [
        ""
      ],
      "execution_count": null,
      "outputs": []
    },
    {
      "cell_type": "code",
      "metadata": {
        "id": "PVC7TCsIZCU5",
        "colab": {
          "base_uri": "https://localhost:8080/"
        },
        "outputId": "658fd6cf-3cb8-4e45-ee3c-4fd382bc356a"
      },
      "source": [
        "# Let's create the model object using LinearRegression\n",
        "model = LinearRegression()\n",
        "\n",
        "# Fit our model to our input data x and y\n",
        "model.fit(x, y)"
      ],
      "execution_count": null,
      "outputs": [
        {
          "output_type": "execute_result",
          "data": {
            "text/plain": [
              "LinearRegression(copy_X=True, fit_intercept=True, n_jobs=None, normalize=False)"
            ]
          },
          "metadata": {
            "tags": []
          },
          "execution_count": 13
        }
      ]
    },
    {
      "cell_type": "code",
      "metadata": {
        "id": "pm7sj82pXRQB",
        "colab": {
          "base_uri": "https://localhost:8080/"
        },
        "outputId": "8d97c5df-885e-4126-e6ac-0dd69bd534a7"
      },
      "source": [
        "# Get our model paramters\n",
        "print('Y Intercept:', model.intercept_) #b\n",
        "print('Gradient:', model.coef_) #m"
      ],
      "execution_count": null,
      "outputs": [
        {
          "output_type": "stream",
          "text": [
            "Y Intercept: 1.522107175129829\n",
            "Gradient: [0.49466484]\n"
          ],
          "name": "stdout"
        }
      ]
    },
    {
      "cell_type": "code",
      "metadata": {
        "id": "9o3jcn24B3X-",
        "colab": {
          "base_uri": "https://localhost:8080/"
        },
        "outputId": "a5d02782-417c-4c47-adb9-6c4056b77507"
      },
      "source": [
        "print('Y Intercept:', b)\n",
        "print('Gradient:', m)"
      ],
      "execution_count": null,
      "outputs": [
        {
          "output_type": "stream",
          "text": [
            "Y Intercept: 0.0837056404211241\n",
            "Gradient: 0.5160245611744141\n"
          ],
          "name": "stdout"
        }
      ]
    },
    {
      "cell_type": "code",
      "metadata": {
        "id": "4zamfGYpEyLt"
      },
      "source": [
        "# Store all predictions in y_pred\r\n",
        "\r\n",
        "y_pred = model.predict(x)"
      ],
      "execution_count": null,
      "outputs": []
    },
    {
      "cell_type": "code",
      "metadata": {
        "colab": {
          "base_uri": "https://localhost:8080/"
        },
        "id": "Lr1lR_QHEy9Y",
        "outputId": "3d58c520-e155-481a-9408-cd0b3c5f0620"
      },
      "source": [
        "y"
      ],
      "execution_count": null,
      "outputs": [
        {
          "output_type": "execute_result",
          "data": {
            "text/plain": [
              "array([12.13803884,  5.0065527 ,  3.5772642 , 15.14888307, -1.4539385 ,\n",
              "        0.73828528, 16.49973667,  8.73292172,  1.32996297,  7.98451264,\n",
              "        7.32931269, 17.82426585,  5.63990861, 13.60495885, 14.40605323,\n",
              "       18.20472206, 14.81832862, 16.58879835, 17.53004835, 25.65631678,\n",
              "       22.14248791, 16.37776876, 19.3316502 , 21.24402811, 18.3873837 ,\n",
              "       34.52756216, 35.56888435, 30.41121942, 23.77675161, 38.84721491,\n",
              "       24.87404429, 27.51254017, 36.28862963, 33.39652608, 36.42770773,\n",
              "       42.79242387, 34.99018906, 48.35271001, 44.24237197, 39.91641673,\n",
              "       34.29165117, 53.39166986, 50.95188143, 45.52181652, 38.80285984,\n",
              "       45.45427923, 42.84708121, 45.63253606, 42.65786534, 62.50238518])"
            ]
          },
          "metadata": {
            "tags": []
          },
          "execution_count": 17
        }
      ]
    },
    {
      "cell_type": "code",
      "metadata": {
        "colab": {
          "base_uri": "https://localhost:8080/",
          "height": 281
        },
        "id": "mMdUAsDmE3a0",
        "outputId": "e0a4be0c-1507-4721-a6f2-36be0e0630b8"
      },
      "source": [
        "plt.scatter(x, y)\r\n",
        "plt.plot(x, y_pred, color='r')"
      ],
      "execution_count": null,
      "outputs": [
        {
          "output_type": "execute_result",
          "data": {
            "text/plain": [
              "[<matplotlib.lines.Line2D at 0x7fe34356b780>]"
            ]
          },
          "metadata": {
            "tags": []
          },
          "execution_count": 18
        },
        {
          "output_type": "display_data",
          "data": {
            "image/png": "[encoded data removed]",
            "text/plain": [
              "<Figure size 432x288 with 1 Axes>"
            ]
          },
          "metadata": {
            "tags": [],
            "needs_background": "light"
          }
        }
      ]
    },
    {
      "cell_type": "code",
      "metadata": {
        "colab": {
          "base_uri": "https://localhost:8080/"
        },
        "id": "hYO8D6uAE8ek",
        "outputId": "bf820bc9-a04c-436b-bd68-e34aff29fe62"
      },
      "source": [
        "from sklearn.metrics import mean_squared_error \r\n",
        "\r\n",
        "print(\"Mean squared error: %.2f\" % mean_squared_error(y, y_pred))"
      ],
      "execution_count": null,
      "outputs": [
        {
          "output_type": "stream",
          "text": [
            "Mean squared error: 34.17\n"
          ],
          "name": "stdout"
        }
      ]
    },
    {
      "cell_type": "markdown",
      "metadata": {
        "id": "iIEUkNUtnxTN"
      },
      "source": [
        "# Linear Regression on Olympic 100m Gold Times\n",
        "\n",
        "![alt text](https://encrypted-tbn0.gstatic.com/images?q=tbn%3AANd9GcQTrYpw1FCRAqMEsZJRBr30sotdaZvia4NgQAWiJEuK13DAgnsZ)"
      ]
    },
    {
      "cell_type": "code",
      "metadata": {
        "id": "LDUSTJNYa4SS",
        "colab": {
          "base_uri": "https://localhost:8080/",
          "height": 191
        },
        "outputId": "1e2f2d9b-88d5-4fa5-a9c0-4d6c5a8236b9"
      },
      "source": [
        "import pandas as pd\n",
        "import numpy as np\n",
        "import seaborn as sns\n",
        "import matplotlib.pyplot as plt\n",
        "\n",
        "file_name = \"/content/olympic100m.csv\"\n",
        "df = pd.read_csv(file_name)\n",
        "df.tail(5)"
      ],
      "execution_count": null,
      "outputs": [
        {
          "output_type": "execute_result",
          "data": {
            "text/html": [
              "<div>\n",
              "<style scoped>\n",
              "    .dataframe tbody tr th:only-of-type {\n",
              "        vertical-align: middle;\n",
              "    }\n",
              "\n",
              "    .dataframe tbody tr th {\n",
              "        vertical-align: top;\n",
              "    }\n",
              "\n",
              "    .dataframe thead th {\n",
              "        text-align: right;\n",
              "    }\n",
              "</style>\n",
              "<table border=\"1\" class=\"dataframe\">\n",
              "  <thead>\n",
              "    <tr style=\"text-align: right;\">\n",
              "      <th></th>\n",
              "      <th>year</th>\n",
              "      <th>time</th>\n",
              "    </tr>\n",
              "  </thead>\n",
              "  <tbody>\n",
              "    <tr>\n",
              "      <th>24</th>\n",
              "      <td>2000</td>\n",
              "      <td>9.87</td>\n",
              "    </tr>\n",
              "    <tr>\n",
              "      <th>25</th>\n",
              "      <td>2004</td>\n",
              "      <td>9.85</td>\n",
              "    </tr>\n",
              "    <tr>\n",
              "      <th>26</th>\n",
              "      <td>2008</td>\n",
              "      <td>9.69</td>\n",
              "    </tr>\n",
              "    <tr>\n",
              "      <th>27</th>\n",
              "      <td>2012</td>\n",
              "      <td>9.63</td>\n",
              "    </tr>\n",
              "    <tr>\n",
              "      <th>28</th>\n",
              "      <td>2016</td>\n",
              "      <td>9.81</td>\n",
              "    </tr>\n",
              "  </tbody>\n",
              "</table>\n",
              "</div>"
            ],
            "text/plain": [
              "    year  time\n",
              "24  2000  9.87\n",
              "25  2004  9.85\n",
              "26  2008  9.69\n",
              "27  2012  9.63\n",
              "28  2016  9.81"
            ]
          },
          "metadata": {
            "tags": []
          },
          "execution_count": 20
        }
      ]
    },
    {
      "cell_type": "code",
      "metadata": {
        "colab": {
          "base_uri": "https://localhost:8080/"
        },
        "id": "q34GjfU9FaHg",
        "outputId": "0ad456ed-4a35-4911-e4c9-30b64801541a"
      },
      "source": [
        "# Format data into correct shape\r\n",
        "x = df['year']\r\n",
        "x_train = np.array(x).reshape((-1, 1))\r\n",
        "x_train.shape"
      ],
      "execution_count": null,
      "outputs": [
        {
          "output_type": "execute_result",
          "data": {
            "text/plain": [
              "(29, 1)"
            ]
          },
          "metadata": {
            "tags": []
          },
          "execution_count": 22
        }
      ]
    },
    {
      "cell_type": "code",
      "metadata": {
        "id": "5i713dHEFVYh"
      },
      "source": [
        "y_train = np.array(df['time'])"
      ],
      "execution_count": null,
      "outputs": []
    },
    {
      "cell_type": "code",
      "metadata": {
        "colab": {
          "base_uri": "https://localhost:8080/"
        },
        "id": "ctmM8MC3FV6s",
        "outputId": "5efd1968-8218-47c2-8a33-ae0a2519dc18"
      },
      "source": [
        "y_train.shape"
      ],
      "execution_count": null,
      "outputs": [
        {
          "output_type": "execute_result",
          "data": {
            "text/plain": [
              "(29,)"
            ]
          },
          "metadata": {
            "tags": []
          },
          "execution_count": 23
        }
      ]
    },
    {
      "cell_type": "code",
      "metadata": {
        "colab": {
          "base_uri": "https://localhost:8080/",
          "height": 281
        },
        "id": "d6GD3xhzFeiR",
        "outputId": "8faf9015-feda-470d-92d2-4ea3702de95a"
      },
      "source": [
        "import numpy as np\r\n",
        "from sklearn.linear_model import LinearRegression\r\n",
        "\r\n",
        "# Let's create the model object using LinearRegression\r\n",
        "model = LinearRegression()\r\n",
        "\r\n",
        "# Fit our model to our input data x and y\r\n",
        "model.fit(x_train, y_train)\r\n",
        "\r\n",
        "y_pred = model.predict(x_train)\r\n",
        "plt.scatter(x_train, y_train)\r\n",
        "plt.plot(x, y_pred, color='r')"
      ],
      "execution_count": null,
      "outputs": [
        {
          "output_type": "execute_result",
          "data": {
            "text/plain": [
              "[<matplotlib.lines.Line2D at 0x7fe342c7b320>]"
            ]
          },
          "metadata": {
            "tags": []
          },
          "execution_count": 24
        },
        {
          "output_type": "display_data",
          "data": {
            "image/png": "[encoded data removed]",
            "text/plain": [
              "<Figure size 432x288 with 1 Axes>"
            ]
          },
          "metadata": {
            "tags": [],
            "needs_background": "light"
          }
        }
      ]
    },
    {
      "cell_type": "code",
      "metadata": {
        "colab": {
          "base_uri": "https://localhost:8080/",
          "height": 281
        },
        "id": "GpHr_PSrFhrz",
        "outputId": "461db52a-1509-4d5f-fa07-f8ed0dcafff9"
      },
      "source": [
        "import numpy as np\r\n",
        "from sklearn.linear_model import LinearRegression\r\n",
        "\r\n",
        "# Let's create the model object using LinearRegression\r\n",
        "model = LinearRegression()\r\n",
        "\r\n",
        "# Fit our model to our input data x and y\r\n",
        "model.fit(x_train, y_train)\r\n",
        "\r\n",
        "y_pred = model.predict(x_train)\r\n",
        "plt.scatter(x_train, y_train)\r\n",
        "plt.plot(x, y_pred, color='g')"
      ],
      "execution_count": null,
      "outputs": [
        {
          "output_type": "execute_result",
          "data": {
            "text/plain": [
              "[<matplotlib.lines.Line2D at 0x7fe35017b2b0>]"
            ]
          },
          "metadata": {
            "tags": []
          },
          "execution_count": 25
        },
        {
          "output_type": "display_data",
          "data": {
            "image/png": "[encoded data removed]",
            "text/plain": [
              "<Figure size 432x288 with 1 Axes>"
            ]
          },
          "metadata": {
            "tags": [],
            "needs_background": "light"
          }
        }
      ]
    },
    {
      "cell_type": "code",
      "metadata": {
        "colab": {
          "base_uri": "https://localhost:8080/"
        },
        "id": "EHeLp03ZFksO",
        "outputId": "c6a72d00-3eee-43b3-b04e-41d7a079d843"
      },
      "source": [
        "# Predict for 2020 Olympics\r\n",
        "\r\n",
        "x_2020 = np.array([2020]).reshape(-1, 1)\r\n",
        "x_2020.shape"
      ],
      "execution_count": null,
      "outputs": [
        {
          "output_type": "execute_result",
          "data": {
            "text/plain": [
              "(1, 1)"
            ]
          },
          "metadata": {
            "tags": []
          },
          "execution_count": 26
        }
      ]
    },
    {
      "cell_type": "code",
      "metadata": {
        "colab": {
          "base_uri": "https://localhost:8080/"
        },
        "id": "4OIJUhOpF3qk",
        "outputId": "0cae6b8b-2f85-4c10-8be2-807b40cf75a1"
      },
      "source": [
        "model.predict(x_2020)"
      ],
      "execution_count": null,
      "outputs": [
        {
          "output_type": "execute_result",
          "data": {
            "text/plain": [
              "array([9.52679525])"
            ]
          },
          "metadata": {
            "tags": []
          },
          "execution_count": 28
        }
      ]
    },
    {
      "cell_type": "markdown",
      "metadata": {
        "id": "DB3nz0fJF9WZ"
      },
      "source": [
        "## Polynomial Regressions"
      ]
    },
    {
      "cell_type": "code",
      "metadata": {
        "colab": {
          "base_uri": "https://localhost:8080/",
          "height": 220
        },
        "id": "hDgXj8dNF6NB",
        "outputId": "0ecb63db-e931-43ee-a623-495b8d206fac"
      },
      "source": [
        "# Importing the libraries \r\n",
        "import numpy as np \r\n",
        "import matplotlib.pyplot as plt \r\n",
        "import pandas as pd \r\n",
        "  \r\n",
        "# Importing the dataset \r\n",
        "file_name = \"/content/polylinearregression.csv\"\r\n",
        "df = pd.read_csv(file_name)\r\n",
        "df.head(7)"
      ],
      "execution_count": null,
      "outputs": [
        {
          "output_type": "execute_result",
          "data": {
            "text/html": [
              "<div>\n",
              "<style scoped>\n",
              "    .dataframe tbody tr th:only-of-type {\n",
              "        vertical-align: middle;\n",
              "    }\n",
              "\n",
              "    .dataframe tbody tr th {\n",
              "        vertical-align: top;\n",
              "    }\n",
              "\n",
              "    .dataframe thead th {\n",
              "        text-align: right;\n",
              "    }\n",
              "</style>\n",
              "<table border=\"1\" class=\"dataframe\">\n",
              "  <thead>\n",
              "    <tr style=\"text-align: right;\">\n",
              "      <th></th>\n",
              "      <th>sno</th>\n",
              "      <th>Temperature</th>\n",
              "      <th>Pressure</th>\n",
              "    </tr>\n",
              "  </thead>\n",
              "  <tbody>\n",
              "    <tr>\n",
              "      <th>0</th>\n",
              "      <td>1</td>\n",
              "      <td>0</td>\n",
              "      <td>0.0002</td>\n",
              "    </tr>\n",
              "    <tr>\n",
              "      <th>1</th>\n",
              "      <td>2</td>\n",
              "      <td>20</td>\n",
              "      <td>0.0012</td>\n",
              "    </tr>\n",
              "    <tr>\n",
              "      <th>2</th>\n",
              "      <td>3</td>\n",
              "      <td>40</td>\n",
              "      <td>0.0060</td>\n",
              "    </tr>\n",
              "    <tr>\n",
              "      <th>3</th>\n",
              "      <td>4</td>\n",
              "      <td>60</td>\n",
              "      <td>0.0300</td>\n",
              "    </tr>\n",
              "    <tr>\n",
              "      <th>4</th>\n",
              "      <td>5</td>\n",
              "      <td>80</td>\n",
              "      <td>0.0900</td>\n",
              "    </tr>\n",
              "    <tr>\n",
              "      <th>5</th>\n",
              "      <td>6</td>\n",
              "      <td>100</td>\n",
              "      <td>0.2700</td>\n",
              "    </tr>\n",
              "  </tbody>\n",
              "</table>\n",
              "</div>"
            ],
            "text/plain": [
              "   sno  Temperature  Pressure\n",
              "0    1            0    0.0002\n",
              "1    2           20    0.0012\n",
              "2    3           40    0.0060\n",
              "3    4           60    0.0300\n",
              "4    5           80    0.0900\n",
              "5    6          100    0.2700"
            ]
          },
          "metadata": {
            "tags": []
          },
          "execution_count": 29
        }
      ]
    },
    {
      "cell_type": "code",
      "metadata": {
        "id": "EPu2Xxx0GKG7"
      },
      "source": [
        "# Extract our x values, the column Temperature\r\n",
        "x = df.iloc[:, 1:2].values \r\n",
        "\r\n",
        "# Extract our y or target variable Pressure\r\n",
        "y = df.iloc[:, 2].values"
      ],
      "execution_count": null,
      "outputs": []
    },
    {
      "cell_type": "code",
      "metadata": {
        "colab": {
          "base_uri": "https://localhost:8080/"
        },
        "id": "F4m-Db1dGMig",
        "outputId": "abb18c99-9f95-4d19-85c1-2f4a96387e8c"
      },
      "source": [
        "x"
      ],
      "execution_count": null,
      "outputs": [
        {
          "output_type": "execute_result",
          "data": {
            "text/plain": [
              "array([[  0],\n",
              "       [ 20],\n",
              "       [ 40],\n",
              "       [ 60],\n",
              "       [ 80],\n",
              "       [100]])"
            ]
          },
          "metadata": {
            "tags": []
          },
          "execution_count": 31
        }
      ]
    },
    {
      "cell_type": "code",
      "metadata": {
        "colab": {
          "base_uri": "https://localhost:8080/"
        },
        "id": "9EYRrOD7GOjz",
        "outputId": "efc8e311-a1af-4dbb-997c-d2df5aa8a915"
      },
      "source": [
        "# Fitting Polynomial Regression to the dataset \r\n",
        "# Fitting the Polynomial Regression model on two components X and y.\r\n",
        "from sklearn.linear_model import LinearRegression\r\n",
        "from sklearn.preprocessing import PolynomialFeatures \r\n",
        "  \r\n",
        "poly = PolynomialFeatures(degree = 9) \r\n",
        "model_Poly = poly.fit_transform(x) \r\n",
        "  \r\n",
        "lin_poly = LinearRegression() \r\n",
        "lin_poly.fit(model_Poly, y)"
      ],
      "execution_count": null,
      "outputs": [
        {
          "output_type": "execute_result",
          "data": {
            "text/plain": [
              "LinearRegression(copy_X=True, fit_intercept=True, n_jobs=None, normalize=False)"
            ]
          },
          "metadata": {
            "tags": []
          },
          "execution_count": 33
        }
      ]
    },
    {
      "cell_type": "code",
      "metadata": {
        "colab": {
          "base_uri": "https://localhost:8080/",
          "height": 295
        },
        "id": "mg8HtFH2GUK7",
        "outputId": "89f5bc49-55c3-4652-cd0b-1605190f1ec8"
      },
      "source": [
        "# Visualising the Polynomial Regression results \r\n",
        "plt.scatter(x, y, color = 'blue') \r\n",
        "  \r\n",
        "plt.plot(x, lin_poly.predict(model_Poly), color = 'red') \r\n",
        "plt.title('Polynomial Regression') \r\n",
        "plt.xlabel('Temperature') \r\n",
        "plt.ylabel('Pressure') \r\n",
        "  \r\n",
        "plt.show() "
      ],
      "execution_count": null,
      "outputs": [
        {
          "output_type": "display_data",
          "data": {
            "image/png": "[encoded data removed]",
            "text/plain": [
              "<Figure size 432x288 with 1 Axes>"
            ]
          },
          "metadata": {
            "tags": [],
            "needs_background": "light"
          }
        }
      ]
    },
    {
      "cell_type": "markdown",
      "metadata": {
        "id": "M89WJRmhGdUZ"
      },
      "source": [
        "## Multivariate Linear Regression\r\n"
      ]
    },
    {
      "cell_type": "code",
      "metadata": {
        "colab": {
          "base_uri": "https://localhost:8080/",
          "height": 191
        },
        "id": "LAw_MeZ-GdDZ",
        "outputId": "bc76f457-6f29-4e2d-bc98-8f44e0f9571d"
      },
      "source": [
        "# Importing the libraries \r\n",
        "import numpy as np \r\n",
        "import matplotlib.pyplot as plt \r\n",
        "import pandas as pd \r\n",
        "  \r\n",
        "# Importing the dataset \r\n",
        "file_name = \"/content/autompg.csv\"\r\n",
        "auto_df = pd.read_csv(file_name)\r\n",
        "auto_df.head()"
      ],
      "execution_count": null,
      "outputs": [
        {
          "output_type": "execute_result",
          "data": {
            "text/html": [
              "<div>\n",
              "<style scoped>\n",
              "    .dataframe tbody tr th:only-of-type {\n",
              "        vertical-align: middle;\n",
              "    }\n",
              "\n",
              "    .dataframe tbody tr th {\n",
              "        vertical-align: top;\n",
              "    }\n",
              "\n",
              "    .dataframe thead th {\n",
              "        text-align: right;\n",
              "    }\n",
              "</style>\n",
              "<table border=\"1\" class=\"dataframe\">\n",
              "  <thead>\n",
              "    <tr style=\"text-align: right;\">\n",
              "      <th></th>\n",
              "      <th>mpg</th>\n",
              "      <th>cylinders</th>\n",
              "      <th>displacement</th>\n",
              "      <th>horsepower</th>\n",
              "      <th>weight</th>\n",
              "      <th>acceleration</th>\n",
              "      <th>model year</th>\n",
              "      <th>origin</th>\n",
              "      <th>car name</th>\n",
              "    </tr>\n",
              "  </thead>\n",
              "  <tbody>\n",
              "    <tr>\n",
              "      <th>0</th>\n",
              "      <td>18.0</td>\n",
              "      <td>8</td>\n",
              "      <td>307.0</td>\n",
              "      <td>130</td>\n",
              "      <td>3504</td>\n",
              "      <td>12.0</td>\n",
              "      <td>70</td>\n",
              "      <td>1</td>\n",
              "      <td>chevrolet chevelle malibu</td>\n",
              "    </tr>\n",
              "    <tr>\n",
              "      <th>1</th>\n",
              "      <td>15.0</td>\n",
              "      <td>8</td>\n",
              "      <td>350.0</td>\n",
              "      <td>165</td>\n",
              "      <td>3693</td>\n",
              "      <td>11.5</td>\n",
              "      <td>70</td>\n",
              "      <td>1</td>\n",
              "      <td>buick skylark 320</td>\n",
              "    </tr>\n",
              "    <tr>\n",
              "      <th>2</th>\n",
              "      <td>18.0</td>\n",
              "      <td>8</td>\n",
              "      <td>318.0</td>\n",
              "      <td>150</td>\n",
              "      <td>3436</td>\n",
              "      <td>11.0</td>\n",
              "      <td>70</td>\n",
              "      <td>1</td>\n",
              "      <td>plymouth satellite</td>\n",
              "    </tr>\n",
              "    <tr>\n",
              "      <th>3</th>\n",
              "      <td>16.0</td>\n",
              "      <td>8</td>\n",
              "      <td>304.0</td>\n",
              "      <td>150</td>\n",
              "      <td>3433</td>\n",
              "      <td>12.0</td>\n",
              "      <td>70</td>\n",
              "      <td>1</td>\n",
              "      <td>amc rebel sst</td>\n",
              "    </tr>\n",
              "    <tr>\n",
              "      <th>4</th>\n",
              "      <td>17.0</td>\n",
              "      <td>8</td>\n",
              "      <td>302.0</td>\n",
              "      <td>140</td>\n",
              "      <td>3449</td>\n",
              "      <td>10.5</td>\n",
              "      <td>70</td>\n",
              "      <td>1</td>\n",
              "      <td>ford torino</td>\n",
              "    </tr>\n",
              "  </tbody>\n",
              "</table>\n",
              "</div>"
            ],
            "text/plain": [
              "    mpg  cylinders  displacement  ... model year  origin                   car name\n",
              "0  18.0          8         307.0  ...         70       1  chevrolet chevelle malibu\n",
              "1  15.0          8         350.0  ...         70       1          buick skylark 320\n",
              "2  18.0          8         318.0  ...         70       1         plymouth satellite\n",
              "3  16.0          8         304.0  ...         70       1              amc rebel sst\n",
              "4  17.0          8         302.0  ...         70       1                ford torino\n",
              "\n",
              "[5 rows x 9 columns]"
            ]
          },
          "metadata": {
            "tags": []
          },
          "execution_count": 36
        }
      ]
    },
    {
      "cell_type": "code",
      "metadata": {
        "colab": {
          "base_uri": "https://localhost:8080/",
          "height": 220
        },
        "id": "xNomZgJ6Gaod",
        "outputId": "cb043d48-01ac-470a-f53d-ea7c894ad24a"
      },
      "source": [
        "# Check for the rows that contain \"?\"\r\n",
        "auto_df[auto_df['horsepower'] == '?']"
      ],
      "execution_count": null,
      "outputs": [
        {
          "output_type": "execute_result",
          "data": {
            "text/html": [
              "<div>\n",
              "<style scoped>\n",
              "    .dataframe tbody tr th:only-of-type {\n",
              "        vertical-align: middle;\n",
              "    }\n",
              "\n",
              "    .dataframe tbody tr th {\n",
              "        vertical-align: top;\n",
              "    }\n",
              "\n",
              "    .dataframe thead th {\n",
              "        text-align: right;\n",
              "    }\n",
              "</style>\n",
              "<table border=\"1\" class=\"dataframe\">\n",
              "  <thead>\n",
              "    <tr style=\"text-align: right;\">\n",
              "      <th></th>\n",
              "      <th>mpg</th>\n",
              "      <th>cylinders</th>\n",
              "      <th>displacement</th>\n",
              "      <th>horsepower</th>\n",
              "      <th>weight</th>\n",
              "      <th>acceleration</th>\n",
              "      <th>model year</th>\n",
              "      <th>origin</th>\n",
              "      <th>car name</th>\n",
              "    </tr>\n",
              "  </thead>\n",
              "  <tbody>\n",
              "    <tr>\n",
              "      <th>32</th>\n",
              "      <td>25.0</td>\n",
              "      <td>4</td>\n",
              "      <td>98.0</td>\n",
              "      <td>?</td>\n",
              "      <td>2046</td>\n",
              "      <td>19.0</td>\n",
              "      <td>71</td>\n",
              "      <td>1</td>\n",
              "      <td>ford pinto</td>\n",
              "    </tr>\n",
              "    <tr>\n",
              "      <th>123</th>\n",
              "      <td>21.0</td>\n",
              "      <td>6</td>\n",
              "      <td>200.0</td>\n",
              "      <td>?</td>\n",
              "      <td>2875</td>\n",
              "      <td>17.0</td>\n",
              "      <td>74</td>\n",
              "      <td>1</td>\n",
              "      <td>ford maverick</td>\n",
              "    </tr>\n",
              "    <tr>\n",
              "      <th>327</th>\n",
              "      <td>40.9</td>\n",
              "      <td>4</td>\n",
              "      <td>85.0</td>\n",
              "      <td>?</td>\n",
              "      <td>1835</td>\n",
              "      <td>17.3</td>\n",
              "      <td>80</td>\n",
              "      <td>2</td>\n",
              "      <td>renault lecar deluxe</td>\n",
              "    </tr>\n",
              "    <tr>\n",
              "      <th>333</th>\n",
              "      <td>23.6</td>\n",
              "      <td>4</td>\n",
              "      <td>140.0</td>\n",
              "      <td>?</td>\n",
              "      <td>2905</td>\n",
              "      <td>14.3</td>\n",
              "      <td>80</td>\n",
              "      <td>1</td>\n",
              "      <td>ford mustang cobra</td>\n",
              "    </tr>\n",
              "    <tr>\n",
              "      <th>351</th>\n",
              "      <td>34.5</td>\n",
              "      <td>4</td>\n",
              "      <td>100.0</td>\n",
              "      <td>?</td>\n",
              "      <td>2320</td>\n",
              "      <td>15.8</td>\n",
              "      <td>81</td>\n",
              "      <td>2</td>\n",
              "      <td>renault 18i</td>\n",
              "    </tr>\n",
              "    <tr>\n",
              "      <th>371</th>\n",
              "      <td>23.0</td>\n",
              "      <td>4</td>\n",
              "      <td>151.0</td>\n",
              "      <td>?</td>\n",
              "      <td>3035</td>\n",
              "      <td>20.5</td>\n",
              "      <td>82</td>\n",
              "      <td>1</td>\n",
              "      <td>amc concord dl</td>\n",
              "    </tr>\n",
              "  </tbody>\n",
              "</table>\n",
              "</div>"
            ],
            "text/plain": [
              "      mpg  cylinders  displacement  ... model year  origin              car name\n",
              "32   25.0          4          98.0  ...         71       1            ford pinto\n",
              "123  21.0          6         200.0  ...         74       1         ford maverick\n",
              "327  40.9          4          85.0  ...         80       2  renault lecar deluxe\n",
              "333  23.6          4         140.0  ...         80       1    ford mustang cobra\n",
              "351  34.5          4         100.0  ...         81       2           renault 18i\n",
              "371  23.0          4         151.0  ...         82       1        amc concord dl\n",
              "\n",
              "[6 rows x 9 columns]"
            ]
          },
          "metadata": {
            "tags": []
          },
          "execution_count": 37
        }
      ]
    },
    {
      "cell_type": "code",
      "metadata": {
        "id": "vgULKreLGwru"
      },
      "source": [
        "# Get the indexes that have \"?\" instead of numbers\r\n",
        "indexNames = auto_df[auto_df['horsepower'] == \"?\" ].index\r\n",
        " \r\n",
        "# Delete these row indexes from dataFrame\r\n",
        "auto_df.drop(indexNames , inplace=True)"
      ],
      "execution_count": null,
      "outputs": []
    },
    {
      "cell_type": "code",
      "metadata": {
        "colab": {
          "base_uri": "https://localhost:8080/",
          "height": 47
        },
        "id": "jVYibHluG0cx",
        "outputId": "4f1d4316-337f-4094-e6aa-6fdfa45cd29a"
      },
      "source": [
        "# Just checking to see if they've been removed\r\n",
        "auto_df[auto_df['horsepower'] == '?']"
      ],
      "execution_count": null,
      "outputs": [
        {
          "output_type": "execute_result",
          "data": {
            "text/html": [
              "<div>\n",
              "<style scoped>\n",
              "    .dataframe tbody tr th:only-of-type {\n",
              "        vertical-align: middle;\n",
              "    }\n",
              "\n",
              "    .dataframe tbody tr th {\n",
              "        vertical-align: top;\n",
              "    }\n",
              "\n",
              "    .dataframe thead th {\n",
              "        text-align: right;\n",
              "    }\n",
              "</style>\n",
              "<table border=\"1\" class=\"dataframe\">\n",
              "  <thead>\n",
              "    <tr style=\"text-align: right;\">\n",
              "      <th></th>\n",
              "      <th>mpg</th>\n",
              "      <th>cylinders</th>\n",
              "      <th>displacement</th>\n",
              "      <th>horsepower</th>\n",
              "      <th>weight</th>\n",
              "      <th>acceleration</th>\n",
              "      <th>model year</th>\n",
              "      <th>origin</th>\n",
              "      <th>car name</th>\n",
              "    </tr>\n",
              "  </thead>\n",
              "  <tbody>\n",
              "  </tbody>\n",
              "</table>\n",
              "</div>"
            ],
            "text/plain": [
              "Empty DataFrame\n",
              "Columns: [mpg, cylinders, displacement, horsepower, weight, acceleration, model year, origin, car name]\n",
              "Index: []"
            ]
          },
          "metadata": {
            "tags": []
          },
          "execution_count": 39
        }
      ]
    },
    {
      "cell_type": "code",
      "metadata": {
        "id": "xD8jLqyNG3DO"
      },
      "source": [
        "auto_df['horsepower'] = auto_df['horsepower'].astype(float)"
      ],
      "execution_count": null,
      "outputs": []
    },
    {
      "cell_type": "code",
      "metadata": {
        "colab": {
          "base_uri": "https://localhost:8080/"
        },
        "id": "_Zp0uwB2G6Id",
        "outputId": "d910fbda-b129-453e-e4ed-b3588c8a054b"
      },
      "source": [
        "auto_df.info()"
      ],
      "execution_count": null,
      "outputs": [
        {
          "output_type": "stream",
          "text": [
            "<class 'pandas.core.frame.DataFrame'>\n",
            "Int64Index: 389 entries, 0 to 394\n",
            "Data columns (total 9 columns):\n",
            " #   Column        Non-Null Count  Dtype  \n",
            "---  ------        --------------  -----  \n",
            " 0   mpg           389 non-null    float64\n",
            " 1   cylinders     389 non-null    int64  \n",
            " 2   displacement  389 non-null    float64\n",
            " 3   horsepower    389 non-null    float64\n",
            " 4   weight        389 non-null    int64  \n",
            " 5   acceleration  389 non-null    float64\n",
            " 6   model year    389 non-null    int64  \n",
            " 7   origin        389 non-null    int64  \n",
            " 8   car name      389 non-null    object \n",
            "dtypes: float64(4), int64(4), object(1)\n",
            "memory usage: 30.4+ KB\n"
          ],
          "name": "stdout"
        }
      ]
    },
    {
      "cell_type": "code",
      "metadata": {
        "id": "wH5zOqICG8us"
      },
      "source": [
        "x = auto_df.iloc[:,1:8].values\r\n",
        "y = auto_df.iloc[:,0].values"
      ],
      "execution_count": null,
      "outputs": []
    },
    {
      "cell_type": "code",
      "metadata": {
        "colab": {
          "base_uri": "https://localhost:8080/"
        },
        "id": "5kbquqSEG-4i",
        "outputId": "d0c9ddaa-f334-42b4-9564-93c63facaf88"
      },
      "source": [
        "x.shape"
      ],
      "execution_count": null,
      "outputs": [
        {
          "output_type": "execute_result",
          "data": {
            "text/plain": [
              "(389, 7)"
            ]
          },
          "metadata": {
            "tags": []
          },
          "execution_count": 43
        }
      ]
    },
    {
      "cell_type": "code",
      "metadata": {
        "colab": {
          "base_uri": "https://localhost:8080/"
        },
        "id": "kXuAybhWHBae",
        "outputId": "e3c0ec15-e5e2-4e9e-e492-2457c0ebdec1"
      },
      "source": [
        "from sklearn.model_selection import train_test_split\r\n",
        "from sklearn.linear_model import LinearRegression\r\n",
        "from sklearn.metrics import mean_squared_error\r\n",
        "\r\n",
        "X_train,X_test,Y_train,Y_test = train_test_split(x,y,test_size=0.3,random_state=0)\r\n",
        "\r\n",
        "regressor = LinearRegression()\r\n",
        "regressor.fit(X_train,Y_train)"
      ],
      "execution_count": null,
      "outputs": [
        {
          "output_type": "execute_result",
          "data": {
            "text/plain": [
              "LinearRegression(copy_X=True, fit_intercept=True, n_jobs=None, normalize=False)"
            ]
          },
          "metadata": {
            "tags": []
          },
          "execution_count": 44
        }
      ]
    },
    {
      "cell_type": "code",
      "metadata": {
        "id": "_U5u3NfjHD88"
      },
      "source": [
        "# cylinders\tdisplacement\thorsepower\tweight\tacceleration\tmodel year\torigin\r\n",
        "\r\n",
        "# Data for Honda Prelude actual mpg is 24\r\n",
        "Trial_Data = np.array([8, 220, 195, 3042 , 6.7, 98, 3])\r\n",
        "Trial_Data = Trial_Data.reshape((-1, 7))\r\n",
        "Trial_Data = Trial_Data.astype(float)"
      ],
      "execution_count": null,
      "outputs": []
    },
    {
      "cell_type": "code",
      "metadata": {
        "colab": {
          "base_uri": "https://localhost:8080/"
        },
        "id": "9h4wODuUHGzT",
        "outputId": "c7860098-1c89-45c1-ef35-16f861f9a5a4"
      },
      "source": [
        "regressor.predict(Trial_Data)[0]"
      ],
      "execution_count": null,
      "outputs": [
        {
          "output_type": "execute_result",
          "data": {
            "text/plain": [
              "38.18699460555594"
            ]
          },
          "metadata": {
            "tags": []
          },
          "execution_count": 46
        }
      ]
    },
    {
      "cell_type": "code",
      "metadata": {
        "id": "qx2NSLFtHJ2G"
      },
      "source": [
        ""
      ],
      "execution_count": null,
      "outputs": []
    }
  ]
}