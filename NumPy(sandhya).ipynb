{
  "nbformat": 4,
  "nbformat_minor": 0,
  "metadata": {
    "colab": {
      "name": "NumPy(sandhya).ipynb",
      "provenance": [],
      "collapsed_sections": []
    },
    "kernelspec": {
      "name": "python3",
      "display_name": "Python 3"
    }
  },
  "cells": [
    {
      "cell_type": "markdown",
      "metadata": {
        "id": "EVu0TZ2zIFRZ"
      },
      "source": [
        "## Getting started with numpy"
      ]
    },
    {
      "cell_type": "code",
      "metadata": {
        "id": "8b1DZMp32RqX",
        "colab": {
          "base_uri": "https://localhost:8080/"
        },
        "outputId": "940f059d-9e54-4d1e-f221-8358c95f52a6"
      },
      "source": [
        "import numpy as np\n",
        "arr=np.array([1,2,3,4,5])\n",
        "print(arr)"
      ],
      "execution_count": null,
      "outputs": [
        {
          "output_type": "stream",
          "text": [
            "[1 2 3 4 5]\n"
          ],
          "name": "stdout"
        }
      ]
    },
    {
      "cell_type": "code",
      "metadata": {
        "colab": {
          "base_uri": "https://localhost:8080/"
        },
        "id": "Q48OdPtAiC6v",
        "outputId": "9fe1a851-b161-4962-cde5-458234bfc469"
      },
      "source": [
        "import numpy as np \r\n",
        "print(np.__version__)"
      ],
      "execution_count": null,
      "outputs": [
        {
          "output_type": "stream",
          "text": [
            "1.18.5\n"
          ],
          "name": "stdout"
        }
      ]
    },
    {
      "cell_type": "markdown",
      "metadata": {
        "id": "fjUVdTFHiFpc"
      },
      "source": [
        "## Create a Numpy ndarray Object"
      ]
    },
    {
      "cell_type": "code",
      "metadata": {
        "id": "DcgMDjQTKDUa",
        "colab": {
          "base_uri": "https://localhost:8080/"
        },
        "outputId": "c8a51eb6-0568-4395-a079-7ed0662e8e8a"
      },
      "source": [
        "import numpy as np\n",
        "arr=np.array([1,2,3,4,5])\n",
        "print(arr)"
      ],
      "execution_count": null,
      "outputs": [
        {
          "output_type": "stream",
          "text": [
            "[1 2 3 4 5]\n"
          ],
          "name": "stdout"
        }
      ]
    },
    {
      "cell_type": "code",
      "metadata": {
        "colab": {
          "base_uri": "https://localhost:8080/"
        },
        "id": "teJ5SY3Ti8O7",
        "outputId": "b6ea65ca-5c73-402e-e9d7-679502f9e3de"
      },
      "source": [
        "import numpy as np\r\n",
        "arr=np.array([1,2,3,4,5])\r\n",
        "print(arr)\r\n",
        "print(type(arr))"
      ],
      "execution_count": null,
      "outputs": [
        {
          "output_type": "stream",
          "text": [
            "[1 2 3 4 5]\n",
            "<class 'numpy.ndarray'>\n"
          ],
          "name": "stdout"
        }
      ]
    },
    {
      "cell_type": "code",
      "metadata": {
        "id": "zfmHIjYOf3fk",
        "colab": {
          "base_uri": "https://localhost:8080/"
        },
        "outputId": "ce5c8487-86ad-4110-87c6-da6727c880d5"
      },
      "source": [
        "import numpy as np\r\n",
        "arr=np.array([[1,2,3,4,5],[6,7,8,9,10]])\r\n",
        "print(arr)\r\n",
        "print(type(arr))"
      ],
      "execution_count": null,
      "outputs": [
        {
          "output_type": "stream",
          "text": [
            "[[ 1  2  3  4  5]\n",
            " [ 6  7  8  9 10]]\n",
            "<class 'numpy.ndarray'>\n"
          ],
          "name": "stdout"
        }
      ]
    },
    {
      "cell_type": "code",
      "metadata": {
        "colab": {
          "base_uri": "https://localhost:8080/"
        },
        "id": "BaNqYkCDiSk-",
        "outputId": "f268439f-feab-4415-a91d-eb8abcb12640"
      },
      "source": [
        "import numpy as np\r\n",
        "a = np.array(456)\r\n",
        "b = np.array([1,2,3,4,5,6,7])\r\n",
        "c = np.array([[1,2,3,4,5],[6,7,8,9,10]])\r\n",
        "d = np.array([[[1,2,3],[4,5,6]],[[6,7,8],[9,10,11]]])\r\n",
        "\r\n",
        "print(a.ndim)\r\n",
        "print(b.ndim)\r\n",
        "print(c.ndim)\r\n",
        "print(d.ndim)"
      ],
      "execution_count": null,
      "outputs": [
        {
          "output_type": "stream",
          "text": [
            "0\n",
            "1\n",
            "2\n",
            "3\n"
          ],
          "name": "stdout"
        }
      ]
    },
    {
      "cell_type": "code",
      "metadata": {
        "colab": {
          "base_uri": "https://localhost:8080/"
        },
        "id": "lIHQVZkujmhE",
        "outputId": "32bb657f-1808-4871-8065-49a3b9473ed6"
      },
      "source": [
        "import numpy as np\r\n",
        "arr = ([1,2,3,4,5,6,7])\r\n",
        "print(arr[2] + arr[4])"
      ],
      "execution_count": null,
      "outputs": [
        {
          "output_type": "stream",
          "text": [
            "8\n"
          ],
          "name": "stdout"
        }
      ]
    },
    {
      "cell_type": "code",
      "metadata": {
        "id": "kfoHoxeTjpxg",
        "colab": {
          "base_uri": "https://localhost:8080/"
        },
        "outputId": "2c6c611a-c9c2-4025-cf1d-79b6b0e1fb10"
      },
      "source": [
        "import numpy as np\r\n",
        "c = np.array([[[1,2,3],[4,5,6]],[[6,7,8],[9,10,11]]]) \r\n",
        "print(c)\r\n",
        "print('Print the third element of second array of the first array: ', c[0,1,2])"
      ],
      "execution_count": null,
      "outputs": [
        {
          "output_type": "stream",
          "text": [
            "[[[ 1  2  3]\n",
            "  [ 4  5  6]]\n",
            "\n",
            " [[ 6  7  8]\n",
            "  [ 9 10 11]]]\n",
            "Print the third element of second array of the first array:  6\n"
          ],
          "name": "stdout"
        }
      ]
    },
    {
      "cell_type": "code",
      "metadata": {
        "colab": {
          "base_uri": "https://localhost:8080/"
        },
        "id": "YU656ncjFuNB",
        "outputId": "6d7cbb08-6888-44a6-86a7-d8b8f686f3af"
      },
      "source": [
        "import numpy as np\r\n",
        "c = np.array([[1,2,3,4,5],[6,7,8,9,10]])\r\n",
        "print(c)\r\n",
        "print('Print the last element on 2nd dim: ', c[1,4])"
      ],
      "execution_count": null,
      "outputs": [
        {
          "output_type": "stream",
          "text": [
            "[[ 1  2  3  4  5]\n",
            " [ 6  7  8  9 10]]\n",
            "Print the last element on 2nd dim:  10\n"
          ],
          "name": "stdout"
        }
      ]
    },
    {
      "cell_type": "code",
      "metadata": {
        "colab": {
          "base_uri": "https://localhost:8080/"
        },
        "id": "0cqgBcfAF3kn",
        "outputId": "efe7ebf5-de7c-4690-8341-b59865db6945"
      },
      "source": [
        "import numpy as np\r\n",
        "c = np.array([1,2,3,4,5,6,7,8,9,10])\r\n",
        "print(c[1:5])"
      ],
      "execution_count": null,
      "outputs": [
        {
          "output_type": "stream",
          "text": [
            "[2 3 4 5]\n"
          ],
          "name": "stdout"
        }
      ]
    },
    {
      "cell_type": "code",
      "metadata": {
        "colab": {
          "base_uri": "https://localhost:8080/"
        },
        "id": "iMYylnnuF4Eg",
        "outputId": "c8c71fd8-17d1-448c-fe3e-a57bf526f02c"
      },
      "source": [
        "import numpy as np\r\n",
        "c = np.array([1,2,3,4,5,6,7,8,9,10])\r\n",
        "print(c[5:])"
      ],
      "execution_count": null,
      "outputs": [
        {
          "output_type": "stream",
          "text": [
            "[ 6  7  8  9 10]\n"
          ],
          "name": "stdout"
        }
      ]
    },
    {
      "cell_type": "code",
      "metadata": {
        "colab": {
          "base_uri": "https://localhost:8080/"
        },
        "id": "tOHBfGoVF5sq",
        "outputId": "758da4a2-f2c7-411b-fa70-f2bd3fc08cf1"
      },
      "source": [
        "import numpy as np\r\n",
        "c = np.array([1,2,3,4,5,6,7,8,9,10])\r\n",
        "print(c[-5:-2])"
      ],
      "execution_count": null,
      "outputs": [
        {
          "output_type": "stream",
          "text": [
            "[6 7 8]\n"
          ],
          "name": "stdout"
        }
      ]
    },
    {
      "cell_type": "code",
      "metadata": {
        "colab": {
          "base_uri": "https://localhost:8080/"
        },
        "id": "07IzFp1WF5pE",
        "outputId": "fe61791b-ee26-4124-e7d2-7ab892a8a661"
      },
      "source": [
        "import numpy as np\r\n",
        "c = np.array([1,2,3,4,5,6,7,8,9,10,22,22,24,22,32,22])\r\n",
        "print(c[::2])"
      ],
      "execution_count": null,
      "outputs": [
        {
          "output_type": "stream",
          "text": [
            "[ 1  3  5  7  9 22 24 32]\n"
          ],
          "name": "stdout"
        }
      ]
    },
    {
      "cell_type": "code",
      "metadata": {
        "colab": {
          "base_uri": "https://localhost:8080/"
        },
        "id": "gnIaMbzWF5li",
        "outputId": "7bb938cd-062f-4b79-8b90-0b46733784ad"
      },
      "source": [
        "import numpy as np\r\n",
        "c = np.array([[1,2,3,4,5],[9,10,22,22,24]])\r\n",
        "print(c[0:2,1:4])"
      ],
      "execution_count": null,
      "outputs": [
        {
          "output_type": "stream",
          "text": [
            "[[ 2  3  4]\n",
            " [10 22 22]]\n"
          ],
          "name": "stdout"
        }
      ]
    },
    {
      "cell_type": "code",
      "metadata": {
        "colab": {
          "base_uri": "https://localhost:8080/"
        },
        "id": "2D_jqWO6F5iO",
        "outputId": "e016d709-a342-40cb-865e-059b78d44119"
      },
      "source": [
        "import numpy as np\r\n",
        "c = np.array(['sandhya','vinay','vasantha','shivu'])\r\n",
        "print(c.dtype)"
      ],
      "execution_count": null,
      "outputs": [
        {
          "output_type": "stream",
          "text": [
            "<U8\n"
          ],
          "name": "stdout"
        }
      ]
    },
    {
      "cell_type": "code",
      "metadata": {
        "colab": {
          "base_uri": "https://localhost:8080/"
        },
        "id": "tpSYECEEF5ev",
        "outputId": "193ab52d-b65f-4c0e-dbc1-54e0bc307011"
      },
      "source": [
        "import numpy as np\r\n",
        "c = np.array([1.23,2.34,3.44,4.44])\r\n",
        "newarray = c.astype(bool)\r\n",
        "print(newarray)\r\n",
        "print(newarray.dtype)"
      ],
      "execution_count": null,
      "outputs": [
        {
          "output_type": "stream",
          "text": [
            "[ True  True  True  True]\n",
            "bool\n"
          ],
          "name": "stdout"
        }
      ]
    },
    {
      "cell_type": "code",
      "metadata": {
        "colab": {
          "base_uri": "https://localhost:8080/"
        },
        "id": "8_qV8rJLF5av",
        "outputId": "d5da3866-16b6-4af4-8ca2-b6ff42da3610"
      },
      "source": [
        "import numpy as np\r\n",
        "c = np.array([1.23,2.34,3.44,4.44])\r\n",
        "x=c.view()\r\n",
        "x[0]=34\r\n",
        "print(x)\r\n",
        "print(c)\r\n",
        "print(x.dtype)"
      ],
      "execution_count": null,
      "outputs": [
        {
          "output_type": "stream",
          "text": [
            "[34.    2.34  3.44  4.44]\n",
            "[34.    2.34  3.44  4.44]\n",
            "float64\n"
          ],
          "name": "stdout"
        }
      ]
    },
    {
      "cell_type": "code",
      "metadata": {
        "colab": {
          "base_uri": "https://localhost:8080/"
        },
        "id": "yf6wgQPQF5XI",
        "outputId": "ee16b6e2-0016-40c3-d4cd-d23ae098e0be"
      },
      "source": [
        "import numpy as np\r\n",
        "c = np.array([1.23,2.34,3.44,4.44])\r\n",
        "y=np.array([[1,2,3,4,5],[9,10,22,22,24]])\r\n",
        "print(c.shape)\r\n",
        "print(y.shape)"
      ],
      "execution_count": null,
      "outputs": [
        {
          "output_type": "stream",
          "text": [
            "(4,)\n",
            "(2, 5)\n"
          ],
          "name": "stdout"
        }
      ]
    },
    {
      "cell_type": "code",
      "metadata": {
        "colab": {
          "base_uri": "https://localhost:8080/"
        },
        "id": "498RJ1GmF5P0",
        "outputId": "2b2709ee-800a-4edd-baeb-84bb625ac64b"
      },
      "source": [
        "import numpy as np\r\n",
        "c = np.array([1,2,3,4,5,6,7,8,9,10,11,12])\r\n",
        "newarray = c.reshape(4,3)\r\n",
        "print(newarray)"
      ],
      "execution_count": null,
      "outputs": [
        {
          "output_type": "stream",
          "text": [
            "[[ 1  2  3]\n",
            " [ 4  5  6]\n",
            " [ 7  8  9]\n",
            " [10 11 12]]\n"
          ],
          "name": "stdout"
        }
      ]
    },
    {
      "cell_type": "code",
      "metadata": {
        "colab": {
          "base_uri": "https://localhost:8080/"
        },
        "id": "rH9lHM_XF5LU",
        "outputId": "034b2e30-f6a6-4e5f-8a37-baaa44cfa132"
      },
      "source": [
        "import numpy as np\r\n",
        "c = np.array([1,2,3,4,5,6,7,8,9,10,11,12])\r\n",
        "newarray = c.reshape(-1)\r\n",
        "print(newarray)"
      ],
      "execution_count": null,
      "outputs": [
        {
          "output_type": "stream",
          "text": [
            "[ 1  2  3  4  5  6  7  8  9 10 11 12]\n"
          ],
          "name": "stdout"
        }
      ]
    },
    {
      "cell_type": "code",
      "metadata": {
        "colab": {
          "base_uri": "https://localhost:8080/"
        },
        "id": "ArxHm6bzF5Fg",
        "outputId": "10433f90-a257-4817-ae33-973736616230"
      },
      "source": [
        "import numpy as np\r\n",
        "arr1 = np.array([1,2,3])\r\n",
        "arr2 = np.array([4,5,6])\r\n",
        "newarr = np.concatenate((arr1,arr2))\r\n",
        "print(arr1)\r\n",
        "print(arr2)\r\n",
        "print(newarr)"
      ],
      "execution_count": null,
      "outputs": [
        {
          "output_type": "stream",
          "text": [
            "[1 2 3]\n",
            "[4 5 6]\n",
            "[1 2 3 4 5 6]\n"
          ],
          "name": "stdout"
        }
      ]
    },
    {
      "cell_type": "code",
      "metadata": {
        "colab": {
          "base_uri": "https://localhost:8080/"
        },
        "id": "yLNlS3N8F4-I",
        "outputId": "6a18f402-9764-4e2c-e5ab-06d3aa47ad3e"
      },
      "source": [
        "import numpy as np\r\n",
        "\r\n",
        "arr1 = np.array([1,2,3])\r\n",
        "arr2 = np.array([4,5,6])\r\n",
        "\r\n",
        "newarr = np.stack((arr1,arr2),axis=0)\r\n",
        "print(arr1)\r\n",
        "print(arr2)\r\n",
        "print(newarr)"
      ],
      "execution_count": null,
      "outputs": [
        {
          "output_type": "stream",
          "text": [
            "[1 2 3]\n",
            "[4 5 6]\n",
            "[[1 2 3]\n",
            " [4 5 6]]\n"
          ],
          "name": "stdout"
        }
      ]
    },
    {
      "cell_type": "code",
      "metadata": {
        "colab": {
          "base_uri": "https://localhost:8080/"
        },
        "id": "ooyECeueF40k",
        "outputId": "b82c79e6-c1e0-48ce-8109-9054a9f8fb43"
      },
      "source": [
        "import numpy as np\r\n",
        "\r\n",
        "arr1 = np.array([1,2,3])\r\n",
        "arr2 = np.array([4,5,6])\r\n",
        "\r\n",
        "newarr = np.vstack((arr1,arr2))\r\n",
        "print(arr1)\r\n",
        "print(arr2)\r\n",
        "print(newarr)"
      ],
      "execution_count": null,
      "outputs": [
        {
          "output_type": "stream",
          "text": [
            "[1 2 3]\n",
            "[4 5 6]\n",
            "[[1 2 3]\n",
            " [4 5 6]]\n"
          ],
          "name": "stdout"
        }
      ]
    },
    {
      "cell_type": "code",
      "metadata": {
        "colab": {
          "base_uri": "https://localhost:8080/"
        },
        "id": "_1-V0rF_F4tL",
        "outputId": "e9bebb73-3b8b-4c97-d7f2-6170af972408"
      },
      "source": [
        "import numpy as np\r\n",
        "\r\n",
        "arr1 = np.array([1,2,3])\r\n",
        "arr2 = np.array([4,5,6])\r\n",
        "\r\n",
        "newarr = np.hstack((arr1,arr2))\r\n",
        "print(arr1)\r\n",
        "print(arr2)\r\n",
        "print(newarr)"
      ],
      "execution_count": null,
      "outputs": [
        {
          "output_type": "stream",
          "text": [
            "[1 2 3]\n",
            "[4 5 6]\n",
            "[1 2 3 4 5 6]\n"
          ],
          "name": "stdout"
        }
      ]
    },
    {
      "cell_type": "markdown",
      "metadata": {
        "id": "aLC3wr65G19U"
      },
      "source": [
        "## Split the given Array"
      ]
    },
    {
      "cell_type": "code",
      "metadata": {
        "colab": {
          "base_uri": "https://localhost:8080/"
        },
        "id": "-Dcp0XLhHI5r",
        "outputId": "c806eb42-7d2b-4432-8052-899b971d1e81"
      },
      "source": [
        "import numpy as np\r\n",
        "arr1 = np.array([1,2,3,4,5,6])\r\n",
        "newarr = np.array_split(arr1,3)\r\n",
        "print(arr1)\r\n",
        "print(newarr)"
      ],
      "execution_count": null,
      "outputs": [
        {
          "output_type": "stream",
          "text": [
            "[1 2 3 4 5 6]\n",
            "[array([1, 2]), array([3, 4]), array([5, 6])]\n"
          ],
          "name": "stdout"
        }
      ]
    },
    {
      "cell_type": "code",
      "metadata": {
        "colab": {
          "base_uri": "https://localhost:8080/"
        },
        "id": "PwWrF4ivHcwn",
        "outputId": "57f73baa-30c4-4c06-c95b-0c41094c53f4"
      },
      "source": [
        "import numpy as np\r\n",
        "\r\n",
        "arr = np.array([1,2,3,4,5,6])\r\n",
        "\r\n",
        "newarr = np.where(arr==4)\r\n",
        "print(newarr)"
      ],
      "execution_count": null,
      "outputs": [
        {
          "output_type": "stream",
          "text": [
            "(array([3]),)\n"
          ],
          "name": "stdout"
        }
      ]
    },
    {
      "cell_type": "code",
      "metadata": {
        "colab": {
          "base_uri": "https://localhost:8080/"
        },
        "id": "nohcohR8H2Fl",
        "outputId": "d802a991-1589-4863-a5b7-726d32a483d7"
      },
      "source": [
        "import numpy as np\r\n",
        "\r\n",
        "arr = np.array([1,2,3,4,5,6,7,8])\r\n",
        "\r\n",
        "newarr = np.where(arr%2==1)\r\n",
        "print(newarr)"
      ],
      "execution_count": null,
      "outputs": [
        {
          "output_type": "stream",
          "text": [
            "(array([0, 2, 4, 6]),)\n"
          ],
          "name": "stdout"
        }
      ]
    },
    {
      "cell_type": "code",
      "metadata": {
        "colab": {
          "base_uri": "https://localhost:8080/"
        },
        "id": "Bp_RrcOtH_M2",
        "outputId": "9cfd45ed-47af-4595-d89c-078069e8c497"
      },
      "source": [
        "import numpy as np\r\n",
        "\r\n",
        "arr = np.array([6,7,8,9])\r\n",
        "\r\n",
        "x = np.searchsorted(arr,7)\r\n",
        "print(x)"
      ],
      "execution_count": null,
      "outputs": [
        {
          "output_type": "stream",
          "text": [
            "1\n"
          ],
          "name": "stdout"
        }
      ]
    },
    {
      "cell_type": "code",
      "metadata": {
        "colab": {
          "base_uri": "https://localhost:8080/"
        },
        "id": "F6IoNh4mH_IF",
        "outputId": "67f65aa6-46ee-4bbb-a0db-f8fff2ac28f6"
      },
      "source": [
        "import numpy as np\r\n",
        "\r\n",
        "arr = np.array([414,42,43,44])\r\n",
        "\r\n",
        "x = arr[[True,False,True,True]]\r\n",
        "\r\n",
        "print(x)"
      ],
      "execution_count": null,
      "outputs": [
        {
          "output_type": "stream",
          "text": [
            "[414  43  44]\n"
          ],
          "name": "stdout"
        }
      ]
    },
    {
      "cell_type": "code",
      "metadata": {
        "colab": {
          "base_uri": "https://localhost:8080/",
          "height": 265
        },
        "id": "QvoqwPv2H_DD",
        "outputId": "2f6d1875-e92c-4312-9a34-b0882c244c5e"
      },
      "source": [
        "import matplotlib.pyplot as plt\r\n",
        "import numpy as np\r\n",
        "\r\n",
        "xpoints = np.array([0,6])\r\n",
        "ypoints = np.array([0,6])\r\n",
        "\r\n",
        "plt.plot(xpoints,ypoints)\r\n",
        "plt.show()"
      ],
      "execution_count": null,
      "outputs": [
        {
          "output_type": "display_data",
          "data": {
            "image/png": "[encoded data removed]",
            "text/plain": [
              "<Figure size 432x288 with 1 Axes>"
            ]
          },
          "metadata": {
            "tags": [],
            "needs_background": "light"
          }
        }
      ]
    },
    {
      "cell_type": "code",
      "metadata": {
        "colab": {
          "base_uri": "https://localhost:8080/",
          "height": 265
        },
        "id": "fkiDymUPH--V",
        "outputId": "e707d961-a61f-4ef6-d39e-1d0630e06cd5"
      },
      "source": [
        "import matplotlib.pyplot as plt\r\n",
        "import numpy as np\r\n",
        "\r\n",
        "xpoints = np.array([1,8])\r\n",
        "ypoints = np.array([3,10])\r\n",
        "\r\n",
        "plt.plot(xpoints,ypoints,'o')\r\n",
        "plt.show()"
      ],
      "execution_count": null,
      "outputs": [
        {
          "output_type": "display_data",
          "data": {
            "image/png": "[encoded data removed]",
            "text/plain": [
              "<Figure size 432x288 with 1 Axes>"
            ]
          },
          "metadata": {
            "tags": [],
            "needs_background": "light"
          }
        }
      ]
    },
    {
      "cell_type": "code",
      "metadata": {
        "colab": {
          "base_uri": "https://localhost:8080/",
          "height": 265
        },
        "id": "nUy4MByzH-5z",
        "outputId": "41c8c86f-1a81-4c4c-89f7-f5333fbe22af"
      },
      "source": [
        "import matplotlib.pyplot as plt\r\n",
        "import numpy as np\r\n",
        "\r\n",
        "xpoints = np.array([1,2,6,8])\r\n",
        "ypoints = np.array([3,8,1,10])\r\n",
        "\r\n",
        "plt.plot(xpoints,ypoints)\r\n",
        "plt.show()"
      ],
      "execution_count": null,
      "outputs": [
        {
          "output_type": "display_data",
          "data": {
            "image/png": "[encoded data removed]",
            "text/plain": [
              "<Figure size 432x288 with 1 Axes>"
            ]
          },
          "metadata": {
            "tags": [],
            "needs_background": "light"
          }
        }
      ]
    },
    {
      "cell_type": "code",
      "metadata": {
        "colab": {
          "base_uri": "https://localhost:8080/",
          "height": 265
        },
        "id": "bh8p8jShH-05",
        "outputId": "c1c83e72-b63c-4a8e-846b-5d98fef4e458"
      },
      "source": [
        "import matplotlib.pyplot as plt\r\n",
        "import numpy as np\r\n",
        "\r\n",
        "xpoints = np.array([1,2,6,8,33,22,33,1,2,22,54,22])\r\n",
        "\r\n",
        "\r\n",
        "plt.plot(xpoints,'o-r')\r\n",
        "plt.show()"
      ],
      "execution_count": null,
      "outputs": [
        {
          "output_type": "display_data",
          "data": {
            "image/png": "[encoded data removed]",
            "text/plain": [
              "<Figure size 432x288 with 1 Axes>"
            ]
          },
          "metadata": {
            "tags": [],
            "needs_background": "light"
          }
        }
      ]
    },
    {
      "cell_type": "code",
      "metadata": {
        "colab": {
          "base_uri": "https://localhost:8080/",
          "height": 265
        },
        "id": "6NKHyzueH-wZ",
        "outputId": "9da9f101-9fa1-4959-f236-bc3e3b2d7f5d"
      },
      "source": [
        "import matplotlib.pyplot as plt\r\n",
        "import numpy as np\r\n",
        "\r\n",
        "xpoints = np.array([1,2,6,8,33,22,33,1,2,22,54,22])\r\n",
        "\r\n",
        "\r\n",
        "plt.plot(xpoints,'o--r')\r\n",
        "plt.show()"
      ],
      "execution_count": null,
      "outputs": [
        {
          "output_type": "display_data",
          "data": {
            "image/png": "[encoded data removed]",
            "text/plain": [
              "<Figure size 432x288 with 1 Axes>"
            ]
          },
          "metadata": {
            "tags": [],
            "needs_background": "light"
          }
        }
      ]
    },
    {
      "cell_type": "code",
      "metadata": {
        "colab": {
          "base_uri": "https://localhost:8080/",
          "height": 265
        },
        "id": "NfTDhhndH-r4",
        "outputId": "f658281f-c2d1-4fe1-c983-f564808fabf0"
      },
      "source": [
        "import matplotlib.pyplot as plt\r\n",
        "import numpy as np\r\n",
        "x = np.array([0,1,2,3])\r\n",
        "y = np.array([3,5,2,10])\r\n",
        "\r\n",
        "\r\n",
        "plt.subplot(1,2,1)\r\n",
        "plt.plot(x,y)\r\n",
        "\r\n",
        "import matplotlib.pyplot as plt\r\n",
        "import numpy as np\r\n",
        "x = np.array([0,1,2,3])\r\n",
        "y = np.array([13,25,32,40])\r\n",
        "\r\n",
        "\r\n",
        "plt.subplot(1,2,2)\r\n",
        "plt.plot(x,y)\r\n",
        "\r\n",
        "plt.show()"
      ],
      "execution_count": null,
      "outputs": [
        {
          "output_type": "display_data",
          "data": {
            "image/png": "[encoded data removed]",
            "text/plain": [
              "<Figure size 432x288 with 2 Axes>"
            ]
          },
          "metadata": {
            "tags": [],
            "needs_background": "light"
          }
        }
      ]
    },
    {
      "cell_type": "code",
      "metadata": {
        "colab": {
          "base_uri": "https://localhost:8080/",
          "height": 265
        },
        "id": "mjpxHHDWH-n9",
        "outputId": "b36b11e2-cf02-4387-b01d-74583ddd8f1d"
      },
      "source": [
        "import matplotlib.pyplot as plt\r\n",
        "import numpy as np\r\n",
        "x = np.array([0,1,2,3])\r\n",
        "y = np.array([3,5,2,10])\r\n",
        "\r\n",
        "\r\n",
        "plt.subplot(2,1,1)\r\n",
        "plt.plot(x,y)\r\n",
        "\r\n",
        "import matplotlib.pyplot as plt\r\n",
        "import numpy as np\r\n",
        "x = np.array([0,1,2,3])\r\n",
        "y = np.array([13,25,32,40])\r\n",
        "\r\n",
        "\r\n",
        "plt.subplot(2,1,2)\r\n",
        "plt.plot(x,y)\r\n",
        "\r\n",
        "plt.show()"
      ],
      "execution_count": null,
      "outputs": [
        {
          "output_type": "display_data",
          "data": {
            "image/png": "[encoded data removed]",
            "text/plain": [
              "<Figure size 432x288 with 2 Axes>"
            ]
          },
          "metadata": {
            "tags": [],
            "needs_background": "light"
          }
        }
      ]
    },
    {
      "cell_type": "code",
      "metadata": {
        "id": "wEVhKyg1Jnkj"
      },
      "source": [
        ""
      ],
      "execution_count": null,
      "outputs": []
    },
    {
      "cell_type": "code",
      "metadata": {
        "colab": {
          "base_uri": "https://localhost:8080/",
          "height": 281
        },
        "id": "dhCJPN7O_XJt",
        "outputId": "f73c7ce6-e8a5-45f6-dd34-15aa209e8d42"
      },
      "source": [
        "import matplotlib.pyplot as plt\n",
        "import numpy as np\n",
        "x=np.array([0,1,2,3])\n",
        "y=np.array([4,5,6,7])\n",
        "plt.subplot(2,3,1)\n",
        "plt.plot(x,y)\n",
        "plt.title('sales')\n",
        "x=np.array([0,1,2,3])\n",
        "y=np.array([25,33,15,16])\n",
        "plt.subplot(2,3,2)\n",
        "plt.plot(x,y)\n",
        "plt.title('income')\n",
        "\n",
        "x=np.array([1,10,25,3])\n",
        "y=np.array([25,330,15,162])\n",
        "plt.subplot(2,3,3)\n",
        "plt.plot(x,y)\n",
        "\n",
        "x=np.array([0,10,2,35])\n",
        "y=np.array([2500,313,150,16])\n",
        "plt.subplot(2,3,4)\n",
        "plt.plot(x,y)\n",
        "\n",
        "x=np.array([0,1,22,1000])\n",
        "y=np.array([2500,353,1455,1675])\n",
        "plt.subplot(2,3,5)\n",
        "plt.plot(x,y)\n",
        "\n",
        "x=np.array([0,15,2,553])\n",
        "y=np.array([25,3300,1005,1600])\n",
        "plt.subplot(2,3,6)\n",
        "plt.plot(x,y)\n",
        "\n",
        "plt.show()"
      ],
      "execution_count": null,
      "outputs": [
        {
          "output_type": "display_data",
          "data": {
            "image/png": "[encoded data removed]",
            "text/plain": [
              "<Figure size 432x288 with 6 Axes>"
            ]
          },
          "metadata": {
            "tags": [],
            "needs_background": "light"
          }
        }
      ]
    },
    {
      "cell_type": "code",
      "metadata": {
        "colab": {
          "base_uri": "https://localhost:8080/",
          "height": 440
        },
        "id": "Wfysp0U8H-gn",
        "outputId": "2d36c2ff-f5f5-4849-a86c-7e516c8e7ffd"
      },
      "source": [
        "import matplotlib.pyplot as plt\r\n",
        "import numpy as np\r\n",
        "x = np.array([0,1,2,3])\r\n",
        "y = np.array([3,5,2,10])\r\n",
        "\r\n",
        "plt.subplot(2,2,1)\r\n",
        "plt.plot(x,y)\r\n",
        "plt.title('SALES')\r\n",
        "plt.show()\r\n",
        "\r\n",
        "x = np.array([0,1,2,3])\r\n",
        "y = np.array([13,25,32,40])\r\n",
        "\r\n",
        "plt.subplot(1,2,1)\r\n",
        "plt.plot(x,y)\r\n",
        "plt.title('INCOME')\r\n",
        "\r\n",
        "plt.suptitle(\"Workshop of Acharya college\")\r\n",
        "plt.show()"
      ],
      "execution_count": null,
      "outputs": [
        {
          "output_type": "display_data",
          "data": {
            "image/png": "[encoded data removed]",
            "text/plain": [
              "<Figure size 432x288 with 1 Axes>"
            ]
          },
          "metadata": {
            "tags": [],
            "needs_background": "light"
          }
        },
        {
          "output_type": "display_data",
          "data": {
            "image/png": "[encoded data removed]",
            "text/plain": [
              "<Figure size 432x288 with 1 Axes>"
            ]
          },
          "metadata": {
            "tags": [],
            "needs_background": "light"
          }
        }
      ]
    },
    {
      "cell_type": "code",
      "metadata": {
        "colab": {
          "base_uri": "https://localhost:8080/",
          "height": 281
        },
        "id": "NZAnSILGH-bX",
        "outputId": "fcebe8f9-d475-4585-e890-e188da5d51d3"
      },
      "source": [
        "import matplotlib.pyplot as plt\r\n",
        "import numpy as np\r\n",
        "\r\n",
        "x = np.array([0,1,2,3,3,4,6,4,8,2,3,7,8,1,2,8,9,2,2])\r\n",
        "y = np.array([3,5,2,1,2,1,2,1,2,4,2,3,2,2,3,5,2,5,7])\r\n",
        "plt.scatter(x,y)\r\n",
        "plt.title(\"Scatter Plot\")\r\n",
        "plt.show()"
      ],
      "execution_count": null,
      "outputs": [
        {
          "output_type": "display_data",
          "data": {
            "image/png": "[encoded data removed]",
            "text/plain": [
              "<Figure size 432x288 with 1 Axes>"
            ]
          },
          "metadata": {
            "tags": [],
            "needs_background": "light"
          }
        }
      ]
    },
    {
      "cell_type": "code",
      "metadata": {
        "colab": {
          "base_uri": "https://localhost:8080/",
          "height": 281
        },
        "id": "rPaHCkVpH-XU",
        "outputId": "650321a6-597f-4ff3-e1e2-0c4af1abf20f"
      },
      "source": [
        "import matplotlib.pyplot as plt\r\n",
        "import numpy as np\r\n",
        "\r\n",
        "x = np.array([0,1,2,3,3,4,6,4,8,2,3,7,8,1,2,8,9,2,2])\r\n",
        "y = np.array([3,5,2,1,2,1,2,1,2,4,2,3,2,2,3,5,2,5,7])\r\n",
        "plt.scatter(x,y, color = '#88c999')\r\n",
        "\r\n",
        "x = np.array([10,1,2,3,3,24,6,4,8,2,3,7,84,1,21,8,9,2,2])\r\n",
        "y = np.array([3,5,2,1,12,1,2,1,52,4,2,3,2,2,3,45,12,5,7])\r\n",
        "plt.scatter(x,y, color = 'hotpink')\r\n",
        "\r\n",
        "plt.title(\"Scatter Plot\")\r\n",
        "plt.show()"
      ],
      "execution_count": null,
      "outputs": [
        {
          "output_type": "display_data",
          "data": {
            "image/png": "[encoded data removed]",
            "text/plain": [
              "<Figure size 432x288 with 1 Axes>"
            ]
          },
          "metadata": {
            "tags": [],
            "needs_background": "light"
          }
        }
      ]
    },
    {
      "cell_type": "code",
      "metadata": {
        "colab": {
          "base_uri": "https://localhost:8080/",
          "height": 268
        },
        "id": "XF34JqpnH-Tj",
        "outputId": "45dc96bd-f4ba-4a08-96ae-d287aeaab6fd"
      },
      "source": [
        "import matplotlib.pyplot as plt\r\n",
        "import numpy as np\r\n",
        "\r\n",
        "x = np.array([5,7,8,7,2,17,2,9,4,11,12,9,6])\r\n",
        "y = np.array([99,86,87,88,111,86,103,87,94,78,77,85,86])\r\n",
        "colors = np.array([0,10,20,30,40,45,50,55,60,70,80,90,100])\r\n",
        "\r\n",
        "plt.scatter(x,y,c=colors,cmap='viridis')\r\n",
        "plt.colorbar()\r\n",
        "plt.show()"
      ],
      "execution_count": null,
      "outputs": [
        {
          "output_type": "display_data",
          "data": {
            "image/png": "[encoded data removed]",
            "text/plain": [
              "<Figure size 432x288 with 2 Axes>"
            ]
          },
          "metadata": {
            "tags": [],
            "needs_background": "light"
          }
        }
      ]
    },
    {
      "cell_type": "code",
      "metadata": {
        "colab": {
          "base_uri": "https://localhost:8080/",
          "height": 265
        },
        "id": "WGjB7UeTH-IZ",
        "outputId": "d034a631-bd7b-4224-a14d-2d2afe88a647"
      },
      "source": [
        "import matplotlib.pyplot as plt\r\n",
        "import numpy as np\r\n",
        "\r\n",
        "x = np.random.randint(100,size=(100))\r\n",
        "y = np.random.randint(100,size=(100))\r\n",
        "colors = np.random.randint(100,size=(100))\r\n",
        "sizes = 10 * np.random.randint(100,size=(100))\r\n",
        "\r\n",
        "plt.scatter(x,y,c=colors,s=sizes,alpha=0.5,cmap='nipy_spectral')\r\n",
        "plt.colorbar()\r\n",
        "\r\n",
        "plt.show()"
      ],
      "execution_count": null,
      "outputs": [
        {
          "output_type": "display_data",
          "data": {
            "image/png": "[encoded data removed]",
            "text/plain": [
              "<Figure size 432x288 with 2 Axes>"
            ]
          },
          "metadata": {
            "tags": [],
            "needs_background": "light"
          }
        }
      ]
    },
    {
      "cell_type": "code",
      "metadata": {
        "colab": {
          "base_uri": "https://localhost:8080/",
          "height": 265
        },
        "id": "S9Hbv2VoH-Em",
        "outputId": "afa4091a-c2bf-4741-f07e-021665ddc8bb"
      },
      "source": [
        "import matplotlib.pyplot as plt\r\n",
        "import numpy as np\r\n",
        "\r\n",
        "x = np.array([\"A\",\"B\",\"C\",\"D\"])\r\n",
        "y = np.array([23,15,25,20])\r\n",
        "\r\n",
        "plt.barh(x,y)\r\n",
        "plt.show()"
      ],
      "execution_count": null,
      "outputs": [
        {
          "output_type": "display_data",
          "data": {
            "image/png": "[encoded data removed]",
            "text/plain": [
              "<Figure size 432x288 with 1 Axes>"
            ]
          },
          "metadata": {
            "tags": [],
            "needs_background": "light"
          }
        }
      ]
    },
    {
      "cell_type": "code",
      "metadata": {
        "colab": {
          "base_uri": "https://localhost:8080/",
          "height": 265
        },
        "id": "Q6WzJiQTH99t",
        "outputId": "141bb8ad-7df5-4ee7-aec3-06371a406ce6"
      },
      "source": [
        "import matplotlib.pyplot as plt\r\n",
        "import numpy as np\r\n",
        "\r\n",
        "x = np.array([\"A\",\"B\",\"C\",\"D\"])\r\n",
        "y = np.array([23,15,25,20])\r\n",
        "\r\n",
        "plt.barh(x,y)\r\n",
        "plt.show()"
      ],
      "execution_count": null,
      "outputs": [
        {
          "output_type": "display_data",
          "data": {
            "image/png": "[encoded data removed]",
            "text/plain": [
              "<Figure size 432x288 with 1 Axes>"
            ]
          },
          "metadata": {
            "tags": [],
            "needs_background": "light"
          }
        }
      ]
    },
    {
      "cell_type": "code",
      "metadata": {
        "colab": {
          "base_uri": "https://localhost:8080/",
          "height": 265
        },
        "id": "8E3H0BXxH96Q",
        "outputId": "e7084716-cd52-4a69-a479-434e98431de1"
      },
      "source": [
        "import matplotlib.pyplot as plt\r\n",
        "import numpy as np\r\n",
        "\r\n",
        "x = np.array([\"A\",\"B\",\"C\",\"D\"])\r\n",
        "y = np.array([23,15,25,20])\r\n",
        "\r\n",
        "plt.bar(x,y)\r\n",
        "plt.show()"
      ],
      "execution_count": null,
      "outputs": [
        {
          "output_type": "display_data",
          "data": {
            "image/png": "[encoded data removed]",
            "text/plain": [
              "<Figure size 432x288 with 1 Axes>"
            ]
          },
          "metadata": {
            "tags": [],
            "needs_background": "light"
          }
        }
      ]
    },
    {
      "cell_type": "code",
      "metadata": {
        "colab": {
          "base_uri": "https://localhost:8080/",
          "height": 265
        },
        "id": "lckhM9CWH91M",
        "outputId": "02f4ca73-3e8f-4b2f-a6b8-406695ac95f5"
      },
      "source": [
        "import matplotlib.pyplot as plt\r\n",
        "import numpy as np\r\n",
        "\r\n",
        "x = np.array([\"A\",\"B\",\"C\",\"D\"])\r\n",
        "y = np.array([23,15,25,20])\r\n",
        "\r\n",
        "plt.barh(x,y,height=0.2)\r\n",
        "plt.show()"
      ],
      "execution_count": null,
      "outputs": [
        {
          "output_type": "display_data",
          "data": {
            "image/png": "[encoded data removed]",
            "text/plain": [
              "<Figure size 432x288 with 1 Axes>"
            ]
          },
          "metadata": {
            "tags": [],
            "needs_background": "light"
          }
        }
      ]
    },
    {
      "cell_type": "code",
      "metadata": {
        "colab": {
          "base_uri": "https://localhost:8080/",
          "height": 265
        },
        "id": "yvF6BtRAH9w5",
        "outputId": "6203562a-dc44-4ecc-908c-66dbfa768104"
      },
      "source": [
        "import matplotlib.pyplot as plt\r\n",
        "import numpy as np\r\n",
        "\r\n",
        "x = np.array([\"A\",\"B\",\"C\",\"D\"])\r\n",
        "y = np.array([23,15,25,20])\r\n",
        "\r\n",
        "plt.bar(x,y,width=0.1)\r\n",
        "plt.show()"
      ],
      "execution_count": null,
      "outputs": [
        {
          "output_type": "display_data",
          "data": {
            "image/png": "[encoded data removed]",
            "text/plain": [
              "<Figure size 432x288 with 1 Axes>"
            ]
          },
          "metadata": {
            "tags": [],
            "needs_background": "light"
          }
        }
      ]
    },
    {
      "cell_type": "code",
      "metadata": {
        "colab": {
          "base_uri": "https://localhost:8080/"
        },
        "id": "VoV7No-vH9s2",
        "outputId": "c3a91957-7969-41f5-e0d5-ab3ca0cd8018"
      },
      "source": [
        "import numpy as np\r\n",
        "x = np.random.normal(170,10,250)\r\n",
        "print(x)"
      ],
      "execution_count": null,
      "outputs": [
        {
          "output_type": "stream",
          "text": [
            "[173.94713926 176.54351313 171.61595576 170.28612272 166.0045165\n",
            " 159.50945739 168.97911925 163.69469678 179.65719333 184.77633818\n",
            " 173.36723653 160.70753086 157.89200252 177.69365485 162.05446664\n",
            " 173.38435407 175.89236026 179.50073475 169.61643275 164.29476159\n",
            " 169.45051251 170.4229787  161.80109332 163.23636252 156.57524632\n",
            " 182.16440394 168.4296048  175.87211333 158.00690166 156.95022508\n",
            " 180.85647467 183.01090634 181.53350607 158.21733052 172.97806928\n",
            " 176.36315171 174.45221471 157.47047377 173.78636653 172.61373296\n",
            " 168.13986046 157.63643748 177.85358579 164.12129511 164.86127065\n",
            " 181.89871388 169.42828715 159.98706163 188.85066528 150.3324766\n",
            " 176.22924787 180.4069776  164.69346467 177.5158613  187.32991481\n",
            " 170.88005357 171.30343822 179.86825475 175.41497487 183.51068257\n",
            " 178.08172878 169.57456698 170.66338157 158.27787136 166.986532\n",
            " 167.25129518 162.10011301 177.85602482 159.25074859 169.51638718\n",
            " 168.67130712 173.27583146 177.90315272 174.49406072 162.94485914\n",
            " 158.70126602 175.08429    170.17462806 162.71363451 170.72954584\n",
            " 180.53354149 165.98929784 170.69263837 171.06081262 169.59123472\n",
            " 174.70250647 175.37640558 180.6660844  151.80061511 182.44535723\n",
            " 172.91906062 182.85932223 166.44938255 183.00476465 156.05498685\n",
            " 155.54800842 177.2947975  160.47553681 154.37621122 157.26747396\n",
            " 181.78089248 164.53959682 157.19062267 183.66700873 159.30220116\n",
            " 176.51470683 166.8253137  166.24130001 180.91007285 169.51826756\n",
            " 172.20317284 152.71291887 182.13547458 189.898893   179.07541988\n",
            " 166.91281643 189.41392946 159.31744821 172.49143513 163.84255233\n",
            " 168.66785907 179.77639169 163.36252553 173.32888977 162.95155411\n",
            " 163.45201676 189.26065657 166.99288863 179.49890747 153.27020466\n",
            " 166.78123431 180.15621547 162.52077016 171.05139933 146.86204568\n",
            " 171.99918113 170.61250703 166.02088914 181.08549711 163.50464225\n",
            " 160.47285496 179.22220137 175.10044037 163.79729106 176.27041696\n",
            " 161.82900078 160.87786187 158.98382005 158.28670759 174.86868845\n",
            " 176.67018577 163.37609028 190.36234044 182.93612231 167.45344255\n",
            " 159.91112415 164.32040527 179.86293687 172.57302831 160.87307417\n",
            " 176.32038089 173.0342606  156.86946587 165.81338661 159.4980777\n",
            " 176.52072836 170.43904763 178.24068788 173.77862528 179.25325367\n",
            " 173.35041123 175.34201243 175.4052905  151.56930455 157.93048952\n",
            " 158.57015669 176.49194524 156.96792298 167.35062226 171.15966781\n",
            " 187.41078788 163.92979628 182.76516784 167.53096251 179.30351402\n",
            " 163.72123872 187.76079656 165.92572982 166.22714315 159.15796503\n",
            " 185.94695417 157.69353122 175.93779873 165.29171833 180.25563248\n",
            " 167.25412991 174.47579896 185.51503118 166.75981362 165.1102596\n",
            " 167.01957351 171.66568802 202.40677302 186.93183685 176.36711877\n",
            " 173.80969307 165.2934056  170.49801103 156.16417199 156.88423192\n",
            " 170.77689664 179.82426122 176.76284309 164.4262725  156.40797911\n",
            " 159.60688438 185.81631788 163.37269567 166.7491875  175.41515825\n",
            " 184.06947767 165.72579065 192.76007559 174.16188992 181.87821124\n",
            " 179.93659025 149.61008983 159.34717289 183.05020983 178.18086402\n",
            " 159.70549776 178.36060672 172.76068194 170.0130878  187.75213421\n",
            " 171.92155067 174.94355242 180.63766015 161.7288454  169.00334343\n",
            " 170.28067771 148.45997816 160.24449429 178.71412489 174.37792333\n",
            " 164.08044555 169.98466392 177.2824342  160.60034506 167.31461338]\n"
          ],
          "name": "stdout"
        }
      ]
    },
    {
      "cell_type": "code",
      "metadata": {
        "colab": {
          "base_uri": "https://localhost:8080/",
          "height": 248
        },
        "id": "mub0TMzaH9mJ",
        "outputId": "898c7baf-d7cc-4d8b-d7c9-0cdb2d0a57e6"
      },
      "source": [
        "import matplotlib.pyplot as plt\r\n",
        "import numpy as np\r\n",
        "\r\n",
        "y = np.array([35,25,25,15])\r\n",
        "mylables = ['sandhya','vinay','vasantha','shivu']\r\n",
        "\r\n",
        "plt.pie(y,labels=mylables)\r\n",
        "plt.show()"
      ],
      "execution_count": null,
      "outputs": [
        {
          "output_type": "display_data",
          "data": {
            "image/png": "[encoded data removed]",
            "text/plain": [
              "<Figure size 432x288 with 1 Axes>"
            ]
          },
          "metadata": {
            "tags": []
          }
        }
      ]
    },
    {
      "cell_type": "code",
      "metadata": {
        "colab": {
          "base_uri": "https://localhost:8080/",
          "height": 248
        },
        "id": "T2F3Fj_hH9gb",
        "outputId": "3207d61b-9aa7-4e57-a5c4-460a4e55f180"
      },
      "source": [
        "import matplotlib.pyplot as plt\r\n",
        "import numpy as np\r\n",
        "\r\n",
        "y = np.array([35,25,25,15])\r\n",
        "mylables = ['sandhya','vinay','vasantha','shivu']\r\n",
        "\r\n",
        "myexplode = [0.2,0,0,0]\r\n",
        "\r\n",
        "plt.pie(y,labels=mylables,explode=myexplode)\r\n",
        "plt.show()"
      ],
      "execution_count": null,
      "outputs": [
        {
          "output_type": "display_data",
          "data": {
            "image/png": "[encoded data removed]",
            "text/plain": [
              "<Figure size 432x288 with 1 Axes>"
            ]
          },
          "metadata": {
            "tags": []
          }
        }
      ]
    },
    {
      "cell_type": "code",
      "metadata": {
        "colab": {
          "base_uri": "https://localhost:8080/",
          "height": 248
        },
        "id": "P2VH9lCpH9ar",
        "outputId": "fafb73cf-6193-46c4-dd76-9216d529c123"
      },
      "source": [
        "import matplotlib.pyplot as plt\r\n",
        "import numpy as np\r\n",
        "\r\n",
        "y = np.array([35,25,25,15])\r\n",
        "mylables = ['sandhya','vinay','vasantha','shivu']\r\n",
        "\r\n",
        "myexplode = [0.2,0,0,0]\r\n",
        "\r\n",
        "plt.pie(y,labels=mylables,explode=myexplode,shadow=True)\r\n",
        "plt.show()"
      ],
      "execution_count": null,
      "outputs": [
        {
          "output_type": "display_data",
          "data": {
            "image/png": "[encoded data removed]",
            "text/plain": [
              "<Figure size 432x288 with 1 Axes>"
            ]
          },
          "metadata": {
            "tags": []
          }
        }
      ]
    },
    {
      "cell_type": "code",
      "metadata": {
        "colab": {
          "base_uri": "https://localhost:8080/",
          "height": 248
        },
        "id": "OGWFsnmIK3DS",
        "outputId": "41d76fab-8138-4384-c71b-d64f9ad7e819"
      },
      "source": [
        "import matplotlib.pyplot as plt\r\n",
        "import numpy as np\r\n",
        "\r\n",
        "y = np.array([35,25,25,15])\r\n",
        "mylables = ['sandhya','vinay','vasantha','shivu']\r\n",
        "\r\n",
        "myexplode = [0.2,0,0,0]\r\n",
        "\r\n",
        "plt.pie(y,labels=mylables,explode=myexplode)\r\n",
        "plt.legend(title='Student Names :')\r\n",
        "plt.show()"
      ],
      "execution_count": null,
      "outputs": [
        {
          "output_type": "display_data",
          "data": {
            "image/png": "[encoded data removed]",
            "text/plain": [
              "<Figure size 432x288 with 1 Axes>"
            ]
          },
          "metadata": {
            "tags": []
          }
        }
      ]
    },
    {
      "cell_type": "code",
      "metadata": {
        "id": "_GYTATVZIChf",
        "colab": {
          "base_uri": "https://localhost:8080/",
          "height": 247
        },
        "outputId": "916c0086-bd89-463f-b213-3376c1c1390e"
      },
      "source": [
        "import matplotlib.pyplot as plt\r\n",
        "import numpy as np\r\n",
        "y=np.array([35,25,25,15])\r\n",
        "mylabels=['Bus','car','plane','bike']\r\n",
        "myexplode=[0,0.7,0,0.7]\r\n",
        "plt.pie(y, labels=mylabels, explode=myexplode, shadow=True)\r\n",
        "plt.legend(title='Vehicles-')\r\n",
        "plt.show()"
      ],
      "execution_count": null,
      "outputs": [
        {
          "output_type": "display_data",
          "data": {
            "image/png": "[encoded data removed]",
            "text/plain": [
              "<Figure size 432x288 with 1 Axes>"
            ]
          },
          "metadata": {
            "tags": []
          }
        }
      ]
    },
    {
      "cell_type": "markdown",
      "metadata": {
        "id": "ALUtMWeWxrGs"
      },
      "source": [
        "Extra Class"
      ]
    },
    {
      "cell_type": "markdown",
      "metadata": {
        "id": "XF2XGHmYx4Sy"
      },
      "source": [
        "Scipy---\r\n",
        "scientific Python\r\n",
        ":-\r\n",
        "Numpy undereath\r\n",
        "optimization,stats,signal Processing,Image Processing 2)Lib is freely avilable\r\n",
        ":-scipy c or Python\r\n",
        ":-pip install scipy from scipy import constant"
      ]
    },
    {
      "cell_type": "markdown",
      "metadata": {
        "id": "T5n7iRVIwY7I"
      },
      "source": [
        "##Scientific Computing using Scipy"
      ]
    },
    {
      "cell_type": "code",
      "metadata": {
        "id": "LXYdXvNjK237",
        "colab": {
          "base_uri": "https://localhost:8080/"
        },
        "outputId": "55416a53-9001-41a7-8357-7efb6df129d7"
      },
      "source": [
        "import scipy \r\n",
        "print(scipy.__version__)"
      ],
      "execution_count": null,
      "outputs": [
        {
          "output_type": "stream",
          "text": [
            "1.4.1\n"
          ],
          "name": "stdout"
        }
      ]
    },
    {
      "cell_type": "code",
      "metadata": {
        "id": "GXNtG1JrK2zG",
        "colab": {
          "base_uri": "https://localhost:8080/"
        },
        "outputId": "72ce1535-dd47-4ad9-8ff3-ab3f56fb8255"
      },
      "source": [
        "from scipy import constants\r\n",
        "print(constants.pi)"
      ],
      "execution_count": null,
      "outputs": [
        {
          "output_type": "stream",
          "text": [
            "3.141592653589793\n"
          ],
          "name": "stdout"
        }
      ]
    },
    {
      "cell_type": "code",
      "metadata": {
        "id": "dfcA85Yoz02z",
        "colab": {
          "base_uri": "https://localhost:8080/"
        },
        "outputId": "6ba5fe7d-2457-49f2-fb61-2c93ada76917"
      },
      "source": [
        "from scipy import constants\r\n",
        "print(dir(constants))"
      ],
      "execution_count": null,
      "outputs": [
        {
          "output_type": "stream",
          "text": [
            "['Avogadro', 'Boltzmann', 'Btu', 'Btu_IT', 'Btu_th', 'ConstantWarning', 'G', 'Julian_year', 'N_A', 'Planck', 'R', 'Rydberg', 'Stefan_Boltzmann', 'Wien', '__all__', '__builtins__', '__cached__', '__doc__', '__file__', '__loader__', '__name__', '__package__', '__path__', '__spec__', '_obsolete_constants', 'absolute_import', 'acre', 'alpha', 'angstrom', 'arcmin', 'arcminute', 'arcsec', 'arcsecond', 'astronomical_unit', 'atm', 'atmosphere', 'atomic_mass', 'atto', 'au', 'bar', 'barrel', 'bbl', 'blob', 'c', 'calorie', 'calorie_IT', 'calorie_th', 'carat', 'centi', 'codata', 'constants', 'convert_temperature', 'day', 'deci', 'degree', 'degree_Fahrenheit', 'deka', 'division', 'dyn', 'dyne', 'e', 'eV', 'electron_mass', 'electron_volt', 'elementary_charge', 'epsilon_0', 'erg', 'exa', 'exbi', 'femto', 'fermi', 'find', 'fine_structure', 'fluid_ounce', 'fluid_ounce_US', 'fluid_ounce_imp', 'foot', 'g', 'gallon', 'gallon_US', 'gallon_imp', 'gas_constant', 'gibi', 'giga', 'golden', 'golden_ratio', 'grain', 'gram', 'gravitational_constant', 'h', 'hbar', 'hectare', 'hecto', 'horsepower', 'hour', 'hp', 'inch', 'k', 'kgf', 'kibi', 'kilo', 'kilogram_force', 'kmh', 'knot', 'lambda2nu', 'lb', 'lbf', 'light_year', 'liter', 'litre', 'long_ton', 'm_e', 'm_n', 'm_p', 'm_u', 'mach', 'mebi', 'mega', 'metric_ton', 'micro', 'micron', 'mil', 'mile', 'milli', 'minute', 'mmHg', 'mph', 'mu_0', 'nano', 'nautical_mile', 'neutron_mass', 'nu2lambda', 'ounce', 'oz', 'parsec', 'pebi', 'peta', 'physical_constants', 'pi', 'pico', 'point', 'pound', 'pound_force', 'precision', 'print_function', 'proton_mass', 'psi', 'pt', 'short_ton', 'sigma', 'slinch', 'slug', 'speed_of_light', 'speed_of_sound', 'stone', 'survey_foot', 'survey_mile', 'tebi', 'tera', 'test', 'ton_TNT', 'torr', 'troy_ounce', 'troy_pound', 'u', 'unit', 'value', 'week', 'yard', 'year', 'yobi', 'yotta', 'zebi', 'zepto', 'zero_Celsius', 'zetta']\n"
          ],
          "name": "stdout"
        }
      ]
    },
    {
      "cell_type": "code",
      "metadata": {
        "id": "MkzcZ5cuz7jb",
        "colab": {
          "base_uri": "https://localhost:8080/"
        },
        "outputId": "3b5f3793-bf8d-4632-e883-e5f8e00a26ff"
      },
      "source": [
        "from scipy import constants\r\n",
        "print(constants.yotta)\r\n",
        "print(constants.zetta)\r\n",
        "print(constants.exa)\r\n",
        "print(constants.tera)\r\n",
        "print(constants.mega)\r\n",
        "print(constants.kilo)\r\n",
        "print(constants.pico)"
      ],
      "execution_count": null,
      "outputs": [
        {
          "output_type": "stream",
          "text": [
            "1e+24\n",
            "1e+21\n",
            "1e+18\n",
            "1000000000000.0\n",
            "1000000.0\n",
            "1000.0\n",
            "1e-12\n"
          ],
          "name": "stdout"
        }
      ]
    },
    {
      "cell_type": "code",
      "metadata": {
        "id": "tbG3z9U10SoO",
        "colab": {
          "base_uri": "https://localhost:8080/"
        },
        "outputId": "376e8b69-3853-4157-c50f-ecda25dc494c"
      },
      "source": [
        "from scipy import constants\r\n",
        "print(constants.gram)\r\n",
        "print(constants.pound)\r\n",
        "print(constants.carat)\r\n",
        "print(constants.u)\r\n",
        "print(constants.atomic_mass)\r\n",
        "print(constants.astronomical_unit)"
      ],
      "execution_count": null,
      "outputs": [
        {
          "output_type": "stream",
          "text": [
            "0.001\n",
            "0.45359236999999997\n",
            "0.0002\n",
            "1.6605390666e-27\n",
            "1.6605390666e-27\n",
            "149597870700.0\n"
          ],
          "name": "stdout"
        }
      ]
    },
    {
      "cell_type": "code",
      "metadata": {
        "id": "z6KsfWOc0zkZ",
        "colab": {
          "base_uri": "https://localhost:8080/"
        },
        "outputId": "576ca7d9-a09d-4a7b-a652-f692c4b1f14f"
      },
      "source": [
        "from scipy import constants\r\n",
        "from scipy import constants\r\n",
        "print(constants.minute)\r\n",
        "print(constants.hour)\r\n",
        "print(constants.day)\r\n",
        "print(constants.week)\r\n",
        "print(constants.year)\r\n",
        "print(constants.Julian_year)"
      ],
      "execution_count": null,
      "outputs": [
        {
          "output_type": "stream",
          "text": [
            "60.0\n",
            "3600.0\n",
            "86400.0\n",
            "604800.0\n",
            "31536000.0\n",
            "31557600.0\n"
          ],
          "name": "stdout"
        }
      ]
    },
    {
      "cell_type": "code",
      "metadata": {
        "colab": {
          "base_uri": "https://localhost:8080/"
        },
        "id": "64bXzfz113sE",
        "outputId": "70b6e872-2033-4b3a-ab3e-f3502a4fb660"
      },
      "source": [
        "from scipy import constants\r\n",
        "print(constants.zero_Celsius)\r\n",
        "print(constants.degree_Fahrenheit)"
      ],
      "execution_count": null,
      "outputs": [
        {
          "output_type": "stream",
          "text": [
            "273.15\n",
            "0.5555555555555556\n"
          ],
          "name": "stdout"
        }
      ]
    },
    {
      "cell_type": "code",
      "metadata": {
        "id": "UT_so7dQ2N9d",
        "colab": {
          "base_uri": "https://localhost:8080/"
        },
        "outputId": "76d0e90d-5587-48b9-c331-65d8a343fc01"
      },
      "source": [
        "from scipy import constants\r\n",
        "print(constants.electron_volt)\r\n",
        "print(constants.eV)"
      ],
      "execution_count": null,
      "outputs": [
        {
          "output_type": "stream",
          "text": [
            "1.602176634e-19\n",
            "1.602176634e-19\n"
          ],
          "name": "stdout"
        }
      ]
    },
    {
      "cell_type": "code",
      "metadata": {
        "id": "L3etgeE12VsN",
        "colab": {
          "base_uri": "https://localhost:8080/"
        },
        "outputId": "d066e002-b3d3-44d5-8310-e996175f4e91"
      },
      "source": [
        "from scipy import constants\r\n",
        "print(constants.hp)\r\n",
        "print(constants.horsepower)"
      ],
      "execution_count": null,
      "outputs": [
        {
          "output_type": "stream",
          "text": [
            "745.6998715822701\n",
            "745.6998715822701\n"
          ],
          "name": "stdout"
        }
      ]
    },
    {
      "cell_type": "markdown",
      "metadata": {
        "id": "Dh-BzX7x2j21"
      },
      "source": [
        "Find the Root of the Given Equation\r\n",
        "\r\n",
        "\r\n",
        "1.  The given equation is:-x+cos(x)\r\n",
        "\r\n",
        "\r\n"
      ]
    },
    {
      "cell_type": "code",
      "metadata": {
        "id": "y_FADY5O2byX",
        "colab": {
          "base_uri": "https://localhost:8080/"
        },
        "outputId": "eead2d92-c4b9-4a60-dd6d-68de91e11ce9"
      },
      "source": [
        "from scipy.optimize import root\r\n",
        "from math import cos\r\n",
        "\r\n",
        "def eqn(x):\r\n",
        "  return x+cos(x)\r\n",
        "\r\n",
        "myroot=root(eqn,0)\r\n",
        "print(myroot.x)"
      ],
      "execution_count": null,
      "outputs": [
        {
          "output_type": "stream",
          "text": [
            "[-0.73908513]\n"
          ],
          "name": "stdout"
        }
      ]
    },
    {
      "cell_type": "code",
      "metadata": {
        "colab": {
          "base_uri": "https://localhost:8080/"
        },
        "id": "sAcyGq5x3iYh",
        "outputId": "bb4a97ca-5e12-4111-f417-79e79670cbda"
      },
      "source": [
        "from scipy.optimize import root\r\n",
        "from math import cos\r\n",
        "\r\n",
        "def eqn(x):\r\n",
        "  return x+cos(x)\r\n",
        "\r\n",
        "myroot=root(eqn,0)\r\n",
        "print(myroot)"
      ],
      "execution_count": null,
      "outputs": [
        {
          "output_type": "stream",
          "text": [
            "    fjac: array([[-1.]])\n",
            "     fun: array([0.])\n",
            " message: 'The solution converged.'\n",
            "    nfev: 9\n",
            "     qtf: array([-2.66786593e-13])\n",
            "       r: array([-1.67361202])\n",
            "  status: 1\n",
            " success: True\n",
            "       x: array([-0.73908513])\n"
          ],
          "name": "stdout"
        }
      ]
    },
    {
      "cell_type": "markdown",
      "metadata": {
        "id": "HB-To-DE4p06"
      },
      "source": [
        "x^2+x+2"
      ]
    },
    {
      "cell_type": "code",
      "metadata": {
        "colab": {
          "base_uri": "https://localhost:8080/"
        },
        "id": "j54ru0034VLV",
        "outputId": "c8bf34da-f4e6-4ff2-f8d1-a4b01469a5e2"
      },
      "source": [
        "from scipy.optimize import minimize\r\n",
        "\r\n",
        "def eqn(x):\r\n",
        "  return x**2+x+2\r\n",
        "\r\n",
        "mymin=minimize(eqn,0,method=\"BFGS\")\r\n",
        "print(mymin)"
      ],
      "execution_count": null,
      "outputs": [
        {
          "output_type": "stream",
          "text": [
            "      fun: 1.75\n",
            " hess_inv: array([[0.50000001]])\n",
            "      jac: array([0.])\n",
            "  message: 'Optimization terminated successfully.'\n",
            "     nfev: 12\n",
            "      nit: 2\n",
            "     njev: 4\n",
            "   status: 0\n",
            "  success: True\n",
            "        x: array([-0.50000001])\n"
          ],
          "name": "stdout"
        }
      ]
    }
  ]
}